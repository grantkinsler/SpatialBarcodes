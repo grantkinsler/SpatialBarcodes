{
 "cells": [
  {
   "cell_type": "code",
   "execution_count": 4,
   "metadata": {},
   "outputs": [],
   "source": [
    "import pandas as pd\n",
    "import scipy.spatial.distance as sci_dist\n",
    "import matplotlib\n",
    "matplotlib.use('QtAgg')\n",
    "import seaborn as sns\n",
    "import numpy as np\n",
    "from PIL import Image\n",
    "import matplotlib.pyplot as plt\n",
    "import matplotlib\n",
    "Image.MAX_IMAGE_PIXELS = None\n",
    "import numpy as np\n",
    "import matplotlib.pyplot as plt\n",
    "from scipy.stats import poisson\n",
    "import os\n",
    "import re\n",
    "np.random.seed(0)\n",
    "matplotlib.rcParams['pdf.fonttype'] = 42\n",
    "\n",
    "plt.rcParams['font.family'] = 'sans-serif'\n",
    "plt.rcParams['font.sans-serif'] = ['Arial']\n",
    "\n",
    "data_folder = '/Users/yaelheyman/RajLab Dropbox/Yael Heyman/SpatialBarcodes/ImagingData/2024-05-21_mouseexp_expression/projects/roi_2/exports'\n",
    "region_data = '/Users/YaelHeyman/RajLab Dropbox/Yael Heyman/SpatialBarcodes/ImagingData/2024-05-21_mouseexp_expression/projects/Region_Data_with_Minimal_Values.csv'\n",
    "\n",
    "cell_by_gene_path = data_folder + '/cell_by_gene_matrix_dilate10_20240718_withbarcodes_atleast3.csv'\n",
    "transcripts_path = data_folder + '/decode_1_withcoordinates.csv'\n",
    "coords_path = data_folder + '/segmentation_1_nuclei_cellattributes.csv'\n",
    "output_folder = data_folder + '/processedData'\n",
    "cell_by_gene = pd.read_csv(cell_by_gene_path)\n"
   ]
  },
  {
   "cell_type": "code",
   "execution_count": 5,
   "metadata": {},
   "outputs": [
    {
     "name": "stdout",
     "output_type": "stream",
     "text": [
      "/Users/yaelheyman/RajLab Dropbox/Yael Heyman/SpatialBarcodes/ImagingData/2024-05-21_mouseexp_expression/projects/roi_1/exports\n",
      "/Users/yaelheyman/RajLab Dropbox/Yael Heyman/SpatialBarcodes/ImagingData/2024-05-21_mouseexp_expression/projects/roi_2/exports\n",
      "/Users/yaelheyman/RajLab Dropbox/Yael Heyman/SpatialBarcodes/ImagingData/2024-05-21_mouseexp_expression/projects/roi_3/exports\n"
     ]
    }
   ],
   "source": [
    "clones = np.empty(0)\n",
    "num_cells = np.empty(0)\n",
    "pixel2um = 107.11 / 1000000  # Convert pixel to micrometers\n",
    "combined_df = pd.DataFrame()\n",
    "region_data = pd.read_csv(region_data)\n",
    "for j in range(1,4):  # Adjust range as needed\n",
    "    # Dynamically construct the path\n",
    "    data_folder = f\"/Users/yaelheyman/RajLab Dropbox/Yael Heyman/SpatialBarcodes/ImagingData/2024-05-21_mouseexp_expression/projects/roi_{j}/exports\"\n",
    "    cell_by_gene_path = os.path.join(data_folder, 'cell_by_gene_matrix_dilate10_20240718_withbarcodes_atleast3.csv')\n",
    "    print(data_folder)\n",
    "    # Load the cell by gene data\n",
    "    cell_by_gene = pd.read_csv(cell_by_gene_path, index_col=0)\n",
    "    \n",
    "    # Get reference X and Y from region_data as scalar values\n",
    "    ref_x = region_data.loc[region_data['Region'] == f\"Region {j}\", \"Min X (mm)\"].iloc[0]\n",
    "    ref_y = region_data.loc[region_data['Region'] == f\"Region {j}\", \"Min Y (mm)\"].iloc[0]\n",
    "    # clones = np.append(clones, len(np.unique(cell_by_gene.loc[cell_by_gene['bc_cluster_n_bcs']>2,'bc_cluster'])))\n",
    "    num_cells = np.append(num_cells, len(cell_by_gene))\n",
    "    # Correct the coordinates\n",
    "    cell_by_gene['center_x'] = (cell_by_gene['center_x'] * pixel2um + ref_x)*1000\n",
    "    cell_by_gene['center_y'] = (cell_by_gene['center_y'] * pixel2um + ref_y)*1000\n",
    "    \n",
    "    # Adjust the cell_id to make them unique across regions\n",
    "    cell_by_gene['cell_id'] = cell_by_gene['cell_id'] + j * 100000\n",
    "    \n",
    "    # Concatenate to the combined DataFrame\n",
    "    combined_df = pd.concat([combined_df, cell_by_gene], ignore_index=True)\n"
   ]
  },
  {
   "cell_type": "code",
   "execution_count": 6,
   "metadata": {},
   "outputs": [
    {
     "name": "stdout",
     "output_type": "stream",
     "text": [
      "Barcode mean (raw ≥3): 10.19273410605982\n",
      "Barcode mean (per area ≥3): 0.0009384751548414902\n",
      "Gene mean (raw ≥3): 5.188219979328732\n",
      "Gene mean (per area ≥3): 0.0004441266938306024\n"
     ]
    }
   ],
   "source": [
    "# --- Barcode columns: bc_ followed by exactly 3 digits ---\n",
    "barcode_cols = [col for col in combined_df.columns if re.fullmatch(r'bc_\\d{3}', col)]\n",
    "barcode_data = combined_df[barcode_cols].apply(pd.to_numeric, errors='coerce')\n",
    "\n",
    "# Step 1: Filter values < 3\n",
    "barcode_filtered = barcode_data.mask(barcode_data < 3, np.nan)\n",
    "\n",
    "# Step 2: Normalize filtered values by area\n",
    "barcode_filtered_norm = barcode_filtered.div(combined_df['area'], axis=0)\n",
    "\n",
    "# Step 3: Compute means\n",
    "barcode_means = barcode_filtered.mean(skipna=True)\n",
    "barcode_means_norm = barcode_filtered_norm.mean(skipna=True)\n",
    "\n",
    "# --- Gene columns: all uppercase letters and digits only ---\n",
    "gene_cols = [col for col in combined_df.columns if re.fullmatch(r'[A-Z0-9]+', col)]\n",
    "gene_data = combined_df[gene_cols].apply(pd.to_numeric, errors='coerce')\n",
    "\n",
    "# Step 1: Filter values < 3\n",
    "gene_filtered = gene_data.mask(gene_data < 3, np.nan)\n",
    "\n",
    "# Step 2: Normalize filtered values by area\n",
    "gene_filtered_norm = gene_filtered.div(combined_df['area'], axis=0)\n",
    "\n",
    "# Step 3: Compute means\n",
    "gene_means = gene_filtered.mean(skipna=True)\n",
    "gene_means_norm = gene_filtered_norm.mean(skipna=True)\n",
    "\n",
    "# --- Print summary ---\n",
    "print(\"Barcode mean (raw ≥3):\", np.mean(barcode_means))\n",
    "print(\"Barcode mean (per area ≥3):\", np.mean(barcode_means_norm))\n",
    "\n",
    "print(\"Gene mean (raw ≥3):\", np.mean(gene_means))\n",
    "print(\"Gene mean (per area ≥3):\", np.mean(gene_means_norm))\n",
    "\n",
    "# --- Save to CSV ---\n",
    "barcode_summary = pd.DataFrame({'mean': barcode_means, 'mean_per_area': barcode_means_norm})\n",
    "barcode_summary.to_csv(os.path.join(output_folder, \"barcode_summary.csv\"))\n",
    "\n",
    "gene_summary = pd.DataFrame({'mean': gene_means, 'mean_per_area': gene_means_norm})\n",
    "gene_summary.to_csv(os.path.join(output_folder, \"gene_summary.csv\"))\n"
   ]
  },
  {
   "cell_type": "code",
   "execution_count": 7,
   "metadata": {},
   "outputs": [
    {
     "data": {
      "text/plain": [
       "SPARC       16.466009\n",
       "MMP1        16.026539\n",
       "FN1         15.155689\n",
       "CCND1       14.944136\n",
       "L1CAM       14.470032\n",
       "COL1A1      14.425744\n",
       "CAPG        13.003327\n",
       "SERPINE1    12.537876\n",
       "IGFBP7      11.827279\n",
       "BGN         10.973078\n",
       "dtype: float64"
      ]
     },
     "execution_count": 7,
     "metadata": {},
     "output_type": "execute_result"
    }
   ],
   "source": [
    "\n",
    "gene_stds = gene_filtered.std(skipna=True)\n",
    "gene_stds\n",
    "top15_std = gene_stds.sort_values(ascending=False).head(10)\n",
    "top15_std"
   ]
  }
 ],
 "metadata": {
  "kernelspec": {
   "display_name": "home_venv",
   "language": "python",
   "name": "python3"
  },
  "language_info": {
   "codemirror_mode": {
    "name": "ipython",
    "version": 3
   },
   "file_extension": ".py",
   "mimetype": "text/x-python",
   "name": "python",
   "nbconvert_exporter": "python",
   "pygments_lexer": "ipython3",
   "version": "3.13.1"
  }
 },
 "nbformat": 4,
 "nbformat_minor": 2
}
