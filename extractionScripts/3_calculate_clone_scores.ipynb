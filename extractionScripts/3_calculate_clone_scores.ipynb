{
 "cells": [
  {
   "cell_type": "code",
   "execution_count": 1,
   "metadata": {},
   "outputs": [],
   "source": [
    "import numpy as np\n",
    "# import cv2\n",
    "import tifffile as tiff\n",
    "from shapely.geometry import Polygon, mapping, shape, box\n",
    "from skimage import io\n",
    "from skimage.measure import label, regionprops\n",
    "import matplotlib.pyplot as plt\n",
    "# import json\n",
    "from rasterio import features\n",
    "import scanpy as sc\n",
    "import pandas as pd\n",
    "import geopandas as gpd\n",
    "\n",
    "import pickle\n",
    "import scipy\n",
    "\n",
    "from ast import literal_eval\n",
    "\n",
    "import seaborn as sns\n",
    "\n",
    "from SGanalysis.SGobject import SGobject\n",
    "from adjustText import adjust_text\n",
    "\n",
    "import matplotlib\n",
    "%matplotlib inline\n",
    "# matplotlib.use('Qt5Agg')\n",
    "# %matplotlib qt\n",
    "\n",
    "# import matplotlib as mpl\n",
    "matplotlib.rcParams['pdf.fonttype'] = 42\n",
    "\n",
    "from sklearn.cluster import AgglomerativeClustering as AggCluster\n",
    "\n",
    "%load_ext autoreload\n",
    "%autoreload 2\n",
    "%reload_ext autoreload\n",
    "\n",
    "import sys\n",
    "import os\n",
    "\n",
    "# tools_path  = '/Users/grantkinsler/Documents/Penn/Research/SpatialBarcodes/SpatialBarcodes/analysis/tools/tools.py'\n",
    "\n",
    "# tools_path  = '/Users/grantkinsler/Documents/Penn/Research/SpatialBarcodes/analysis/tools/tools.py'\n",
    "tools_path = '../helperScripts/tools.py'\n",
    "\n",
    "# /Users/grantkinsler/Documents/Penn/Research/SpatialBarcodes/analysis/tools/tools.py\n",
    "sys.path.append(os.path.dirname(os.path.expanduser(tools_path)))\n",
    "import tools as tools"
   ]
  },
  {
   "cell_type": "code",
   "execution_count": 2,
   "metadata": {},
   "outputs": [],
   "source": [
    "## load data for the roi of interest    \n",
    "\n",
    "# roi_of_interest = 'roi_1' # Tumor Section 5\n",
    "roi_of_interest = 'roi_2' # Tumor Section 1\n",
    "# roi_of_interest  = 'roi_3' # Tumor Section 3\n",
    "# roi_of_interest = 'run2_roi_2' # Tumor Section 2\n",
    "# roi_of_interest = 'run2_roi_3' # Tumor Section 4\n",
    "\n",
    "use_barcode_minimum = True\n",
    "\n",
    "# load the sg_object\n",
    "with open(f'{tools.roi_file_paths[roi_of_interest][\"out_path\"]}/sg_object_dilate10_20240718.pkl', 'rb') as f:\n",
    "    sg_obj = pickle.load(f)\n",
    "\n",
    "# load the dataframes with the cell by gene matrices, clustered and unclustered\n",
    "unclustered_df =  pd.read_csv(f'{tools.roi_file_paths[roi_of_interest][\"out_path\"]}/cell_by_gene_matrix_dilate10_20240718_withbarcodes_atleast3.csv')\n",
    "clustered_df = pd.read_csv(f'{tools.roi_file_paths[roi_of_interest][\"out_path\"]}/cell_by_gene_matrix_dilate10_20240718_withbarcodes_clustering_10bcs_0.4thresh.csv')\n",
    "\n"
   ]
  },
  {
   "cell_type": "code",
   "execution_count": 3,
   "metadata": {},
   "outputs": [],
   "source": [
    "# merge the clustered and unclustered dataframes\n",
    "cols_to_keep = ['object_id','bc_cluster','bc_cluster_n_bcs','bc_cluster_found_bcs','bc_cluster_bc_names']\n",
    "df = unclustered_df.merge(clustered_df[cols_to_keep],on='object_id',how='left')   "
   ]
  },
  {
   "cell_type": "code",
   "execution_count": 4,
   "metadata": {},
   "outputs": [],
   "source": [
    "df['cell_id'] = [str(id) for id in df['object_id']]\n",
    "\n",
    "# sg_obj.gdf['cell_id'] = [str(x) for x in sg_obj.gdf['object_id']]\n",
    "sg_obj.gdf['object_id'] = sg_obj.gdf.index\n",
    "sg_obj.gdf['cell_id'] = sg_obj.gdf['object_id'].astype('string')\n",
    "sg_obj.gdf.index.name = 'index'\n",
    "sg_obj.gdf = sg_obj.gdf.sort_values('object_id')\n",
    "\n",
    "# assign clusters to the sg_obj\n",
    "sg_obj.gdf = sg_obj.gdf.merge(df[['cell_id']+list(df.columns.difference(sg_obj.gdf.columns))],on=['cell_id'],how='left')"
   ]
  },
  {
   "cell_type": "code",
   "execution_count": 5,
   "metadata": {},
   "outputs": [
    {
     "name": "stderr",
     "output_type": "stream",
     "text": [
      "/var/folders/x6/q0wb9df97nj1wnk5c4t0k7840000gn/T/ipykernel_73421/3783398913.py:3: FutureWarning: X.dtype being converted to np.float32 from float64. In the next version of anndata (0.9) conversion will not be automatic. Pass dtype explicitly to avoid this warning. Pass `AnnData(X, dtype=X.dtype, ...)` to get the future behavour.\n",
      "  adata_genes = sc.AnnData(df[gene_cols])\n",
      "/Users/grantkinsler/opt/miniconda3/envs/spatialgenomics-env2/lib/python3.9/site-packages/anndata/_core/anndata.py:121: ImplicitModificationWarning: Transforming to str index.\n",
      "  warnings.warn(\"Transforming to str index.\", ImplicitModificationWarning)\n",
      "/Users/grantkinsler/opt/miniconda3/envs/spatialgenomics-env2/lib/python3.9/site-packages/anndata/_core/anndata.py:798: UserWarning: \n",
      "AnnData expects .obs.index to contain strings, but got values like:\n",
      "    [0, 1, 2, 3, 4]\n",
      "\n",
      "    Inferred to be: integer\n",
      "\n",
      "  value_idx = self._prep_dim_index(value.index, attr)\n"
     ]
    }
   ],
   "source": [
    "gene_cols = [col for col in df.columns if 'bc_' not in col and col not in ['cell_id','object_id','area','called_barcodes','n_called_barcodes','barcode_names','area','center_x','center_y','nucleus','nucleus_centroid','nucleus_dilated']]    \n",
    "\n",
    "adata_genes = sc.AnnData(df[gene_cols])\n",
    "\n",
    "obs_cols= ['cell_id','n_called_barcodes','barcode_names','called_barcodes'] + cols_to_keep \n",
    "\n",
    "adata_genes.obs = df[obs_cols]\n",
    "adata_genes.obs.index = [str(x) for x in adata_genes.obs.index]"
   ]
  },
  {
   "cell_type": "code",
   "execution_count": 6,
   "metadata": {},
   "outputs": [
    {
     "name": "stdout",
     "output_type": "stream",
     "text": [
      "Metrics based on filtering by 3 barcodes per cluster\n",
      "Average cells per cluster 11.1\n",
      "Number of clusters 1280\n",
      "Metrics based on additionally filtering by 25 cells per cluster\n",
      "Average cells per cluster 141.26666666666668\n",
      "Number of clusters 75\n"
     ]
    },
    {
     "data": {
      "image/png": "[encoded data removed]",
      "text/plain": [
       "<Figure size 640x480 with 1 Axes>"
      ]
     },
     "metadata": {},
     "output_type": "display_data"
    }
   ],
   "source": [
    "# filter out cells with no barcodes or clones with few cells\n",
    "\n",
    "n_bcs_per_cluster_cutoff = 3\n",
    "# n_cells_per_cluster_cutoff = 5\n",
    "# n_cells_per_cluster_cutoff = 10\n",
    "n_cells_per_cluster_cutoff = 25\n",
    "\n",
    "if use_barcode_minimum:\n",
    "    # using the clustering to call clones\n",
    "    confident_clusters = adata_genes[adata_genes.obs['bc_cluster_n_bcs'] >= n_bcs_per_cluster_cutoff]\n",
    "    cluster_names, cluster_sizes = np.unique(confident_clusters.obs['bc_cluster'],return_counts=True)\n",
    "else:\n",
    "    # using the number of barcodes per cluster to filter\n",
    "    confident_clusters = adata_genes\n",
    "    cluster_names, cluster_sizes = np.unique(confident_clusters.obs['called_barcodes'],return_counts=True)\n",
    "\n",
    "print(f'Metrics based on filtering by {n_bcs_per_cluster_cutoff} barcodes per cluster')\n",
    "print('Average cells per cluster',np.mean(cluster_sizes))\n",
    "print('Number of clusters',len(cluster_names))\n",
    "\n",
    "sns.histplot(cluster_sizes)\n",
    "plt.axvline(n_cells_per_cluster_cutoff,color='r')\n",
    "plt.xscale('log')\n",
    "\n",
    "# large enough clusters\n",
    "large_clusters = cluster_names[cluster_sizes >= n_cells_per_cluster_cutoff]\n",
    "\n",
    "confident_clusters = adata_genes[adata_genes.obs['bc_cluster'].isin(large_clusters)]\n",
    "\n",
    "cluster_names, cluster_sizes = np.unique(confident_clusters.obs['bc_cluster'],return_counts=True)\n",
    "# sns.histplot(cluster_sizes)\n",
    "\n",
    "print(f'Metrics based on additionally filtering by {n_cells_per_cluster_cutoff} cells per cluster')\n",
    "print('Average cells per cluster',np.mean(cluster_sizes))\n",
    "print('Number of clusters',len(cluster_names))\n"
   ]
  },
  {
   "cell_type": "code",
   "execution_count": 7,
   "metadata": {},
   "outputs": [
    {
     "data": {
      "text/plain": [
       "[<matplotlib.lines.Line2D at 0x58269cbe0>]"
      ]
     },
     "execution_count": 7,
     "metadata": {},
     "output_type": "execute_result"
    },
    {
     "data": {
      "image/png": "[encoded data removed]",
      "text/plain": [
       "<Figure size 640x480 with 1 Axes>"
      ]
     },
     "metadata": {},
     "output_type": "display_data"
    }
   ],
   "source": [
    "plt.plot(sorted(cluster_sizes))"
   ]
  },
  {
   "cell_type": "code",
   "execution_count": 8,
   "metadata": {},
   "outputs": [],
   "source": [
    "### Functions to calculate gene expression statistics by groupings\n",
    "\n",
    "# calculate the average of each gene in each group (e.g. spatial location or clone )\n",
    "def grouped_obs_mean(adata, group_key, layer=None, gene_symbols=None):\n",
    "    if layer is not None:\n",
    "        getX = lambda x: x.layers[layer]\n",
    "    else:\n",
    "        getX = lambda x: x.X\n",
    "    if gene_symbols is not None:\n",
    "        new_idx = adata.var[idx]\n",
    "    else:\n",
    "        new_idx = adata.var_names\n",
    "\n",
    "    grouped = adata.obs.groupby(group_key)\n",
    "    out = pd.DataFrame(\n",
    "        np.zeros((adata.shape[1], len(grouped)), dtype=np.float64),\n",
    "        columns=list(grouped.groups.keys()),\n",
    "        index=adata.var_names\n",
    "    )\n",
    "\n",
    "    for group, idx in grouped.indices.items():\n",
    "        X = getX(adata[idx])\n",
    "        out[group] = np.ravel(X.mean(axis=0, dtype=np.float64)).tolist()\n",
    "\n",
    "    return out\n",
    "\n",
    "# calculate the difference between maximum and minimum for each group from grouped_obs_mean\n",
    "def group_delta_mean(adata, group_key, layer=None, gene_symbols=None):\n",
    "    mean = grouped_obs_mean(adata, group_key, layer=layer, gene_symbols=gene_symbols)\n",
    "    delta = mean.max(axis=1) - mean.min(axis=1)\n",
    "    return delta\n",
    "\n",
    "# perform permutations on the group identities and return the distribution of deltas for each gene\n",
    "def permuted_group_delta_means(adata,group_key,n_perms=100, layer=None, gene_symbols=None):\n",
    "    \n",
    "    perms = []\n",
    "    for perm in range(n_perms):\n",
    "        permuted_clusters = adata.copy()\n",
    "        permuted_clusters.obs[group_key] = np.random.permutation(adata.obs[group_key].values)\n",
    "        gene_by_bc_cluster_mean_perm = group_delta_mean(permuted_clusters,group_key)\n",
    "        perms.append(gene_by_bc_cluster_mean_perm)\n",
    "\n",
    "    return perms\n",
    "\n",
    "# calculate the empirical p-values for each gene\n",
    "def calculate_empirical_p_values(real_values,permuted_values):\n",
    "    p_values = []\n",
    "    for gene in real_values.index:\n",
    "        p_values.append((np.sum(permuted_values[gene] >= real_values[gene])+1)/(len(permuted_values[gene])+1))\n",
    "        \n",
    "    return pd.Series(p_values,index=real_values.index)\n",
    "\n",
    "# calculate the score for each gene, which is the ratio of the real value to the mean of the permuted values\n",
    "def calculate_group_scores(real_values,permuted_values):\n",
    "    return real_values/np.mean(permuted_values,axis=0)\n",
    "\n"
   ]
  },
  {
   "cell_type": "code",
   "execution_count": 9,
   "metadata": {},
   "outputs": [],
   "source": [
    "# calculate the statistics for clones\n",
    "real_delta  = group_delta_mean(confident_clusters,'bc_cluster')\n",
    "perm_deltas = permuted_group_delta_means(confident_clusters,'bc_cluster',n_perms=12000)\n",
    "\n",
    "# calculate the scores and p-values for the clones\n",
    "scores = calculate_group_scores(real_delta,pd.DataFrame(perm_deltas))\n",
    "p_vals = calculate_empirical_p_values(real_delta,pd.DataFrame(perm_deltas))"
   ]
  },
  {
   "cell_type": "code",
   "execution_count": 10,
   "metadata": {},
   "outputs": [],
   "source": [
    "### SAVE CLONE score output\n",
    "\n",
    "clone_score_df = pd.DataFrame({'gene':scores.index,'score':scores,'p_val':p_vals})\n",
    "if roi_of_interest != 'roi_2':\n",
    "    if use_barcode_minimum:\n",
    "        clone_score_df.to_csv(f'../extractedData/in_vivo/other_rois/clone_scores_{roi_of_interest}_{n_cells_per_cluster_cutoff}cellspercluster.csv',index=False)\n",
    "    else:\n",
    "        clone_score_df.to_csv(f'../extractedData/in_vivo/other_rois/clone_scores_{roi_of_interest}_{n_cells_per_cluster_cutoff}cellspercluster_NoBarcodeCutoff.csv',index=False)\n",
    "else:\n",
    "    if use_barcode_minimum:\n",
    "        clone_score_df.to_csv(f'../extractedData/in_vivo/clone_scores_{n_cells_per_cluster_cutoff}cellspercluster.csv',index=False)\n",
    "    else:\n",
    "        clone_score_df.to_csv(f'../extractedData/in_vivo/clone_scores_{n_cells_per_cluster_cutoff}cellspercluster_NoBarcodeCutoff.csv',index=False)\n"
   ]
  }
 ],
 "metadata": {
  "kernelspec": {
   "display_name": "spatialgenomics-env2",
   "language": "python",
   "name": "python3"
  },
  "language_info": {
   "codemirror_mode": {
    "name": "ipython",
    "version": 3
   },
   "file_extension": ".py",
   "mimetype": "text/x-python",
   "name": "python",
   "nbconvert_exporter": "python",
   "pygments_lexer": "ipython3",
   "version": "3.9.13"
  }
 },
 "nbformat": 4,
 "nbformat_minor": 2
}
