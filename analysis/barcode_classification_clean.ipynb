{
 "cells": [
  {
   "cell_type": "code",
   "execution_count": null,
   "metadata": {},
   "outputs": [],
   "source": [
    "import numpy as np\n",
    "# import cv2\n",
    "import tifffile as tiff\n",
    "from shapely.geometry import Polygon, mapping, shape, box\n",
    "from skimage import io\n",
    "from skimage.measure import label, regionprops\n",
    "import matplotlib.pyplot as plt\n",
    "# import json\n",
    "from rasterio import features\n",
    "import scanpy as sc\n",
    "import pandas as pd\n",
    "import geopandas as gpd\n",
    "\n",
    "from matplotlib import colors\n",
    "\n",
    "import pickle\n",
    "import scipy\n",
    "\n",
    "import seaborn as sns\n",
    "\n",
    "from SGanalysis.SGobject import SGobject \n",
    "\n",
    "import matplotlib\n",
    "%matplotlib inline\n",
    "# matplotlib.use('Qt5Agg')\n",
    "# %matplotlib qt\n",
    "\n",
    "from sklearn.cluster import AgglomerativeClustering as AggCluster\n",
    "\n",
    "import sys\n",
    "import os\n",
    "\n",
    "%load_ext autoreload\n",
    "%autoreload 2\n",
    "\n",
    "tools_path  = '/Users/grantkinsler/Documents/Penn/Research/SpatialBarcodes/analysis/tools/tools.py'\n",
    "sys.path.append(os.path.dirname(os.path.expanduser(tools_path)))\n",
    "import tools"
   ]
  },
  {
   "cell_type": "code",
   "execution_count": null,
   "metadata": {},
   "outputs": [],
   "source": [
    "# filepath  = '/Users/grantkinsler/RajLab Dropbox/Grant Kinsler/Shared_Grant/SpatialBarcodes/ImagingData/2024-02-27_spatialbarcodes_SG_expression/projects/2024-02-27_spatialbarcodes_expression/'\n",
    "filepath = '/Users/grantkinsler/RajLab Dropbox/Grant Kinsler/SpatialBarcodes/ImagingData/2024-05-21_mouseexp_expression/projects/'\n",
    "\n",
    "# roi_2\n",
    "roi_name = 'roi_2'\n",
    "\n",
    "\n",
    "# /roi_2"
   ]
  },
  {
   "cell_type": "code",
   "execution_count": null,
   "metadata": {},
   "outputs": [],
   "source": [
    "# locations = pd.read_csv(f'{filepath}{roi_name}/exports/cell_attributes_cell_10px_20240605.csv',index_col=0)\n",
    "# matrix = pd.read_csv(f'{filepath}{roi_name}/exports/cell_by_gene_matrix_20240606_10px_cell.csv',index_col=0)\n",
    "\n",
    "# matrix.set_index(matrix.index.astype(str),inplace=True)\n",
    "# locations.set_index(matrix.index.astype(str),inplace=True)\n",
    "\n",
    "# /Volumes/GRK_001/spatialbarcodes/2024-05-21_mouseexp_expression/projects/roi2/exports/\n",
    "with open(f'{filepath}{roi_name}/exports/sg_object_20240604_dilate10.pkl', 'rb') as f:\n",
    "    sg_obj = pickle.load(f)\n"
   ]
  },
  {
   "cell_type": "code",
   "execution_count": null,
   "metadata": {},
   "outputs": [],
   "source": [
    "# set object id (as string) as index\n",
    "\n",
    "matrix = sg_obj.get_cell_gene_table_df()\n",
    "matrix['object_id'] = [str(int(x)) for x in matrix['object_id']]\n",
    "matrix.set_index('object_id',inplace=True)\n",
    "\n",
    "sg_obj.gdf['object_id'] = [str(int(x)) for x in sg_obj.gdf['object_id']]\n",
    "sg_obj.gdf.set_index('object_id',inplace=True)"
   ]
  },
  {
   "cell_type": "code",
   "execution_count": null,
   "metadata": {},
   "outputs": [],
   "source": [
    "sg_obj.gdf['nucleus_centroid'] = sg_obj.gdf['nucleus'].centroid.values\n",
    "sg_obj.gdf['center_x'] = sg_obj.gdf['nucleus'].centroid.x.values\n",
    "sg_obj.gdf['center_y'] = sg_obj.gdf['nucleus'].centroid.y.values\n",
    "sg_obj.gdf['area'] = sg_obj.gdf['nucleus_dilated'].area.values"
   ]
  },
  {
   "cell_type": "code",
   "execution_count": null,
   "metadata": {},
   "outputs": [],
   "source": [
    "total_bc_threshold = 10\n",
    "\n",
    "# include cells with at least 10 barcode spots\n",
    "has_bcs = df[df[barcode_cols].sum(axis=1) >= 10]\n",
    "matrix = has_bcs[barcode_cols]\n",
    "\n",
    "matrix_norm = matrix.div(matrix.sum(axis=1), axis=0)\n",
    "braycurtis_dist = scipy.spatial.distance.pdist(matrix_norm,metric='braycurtis')\n",
    "\n",
    "braycurtis_dist_square = scipy.spatial.distance.squareform(braycurtis_dist)"
   ]
  },
  {
   "cell_type": "code",
   "execution_count": null,
   "metadata": {},
   "outputs": [],
   "source": [
    "threshold = 0.4\n",
    "cluster = AggCluster(distance_threshold=threshold,n_clusters=None,linkage='average',affinity='precomputed').fit(braycurtis_dist_square)"
   ]
  },
  {
   "cell_type": "code",
   "execution_count": null,
   "metadata": {},
   "outputs": [],
   "source": [
    "plt.figure(figsize=(30,2))\n",
    "\n",
    "# labels_here = [l if l.count('_') > 2 else '' for l in has_bcs['barcode_names'].values[random_indices]]\n",
    "# plot_dendrogram(cluster,labels=has_bcs['barcode_names'].values[random_indices],leaf_rotation=90,leaf_font_size=6,color_threshold=0.5, truncate_mode=\"level\",)\n",
    "tools.plot_dendrogram(cluster,leaf_rotation=90,leaf_font_size=3,color_threshold=threshold, truncate_mode=\"level\",)\n",
    "\n",
    "# plot_dendrogram(cluster,labels=labels_here,leaf_rotation=90,leaf_font_size=2)"
   ]
  },
  {
   "cell_type": "code",
   "execution_count": null,
   "metadata": {},
   "outputs": [],
   "source": [
    "cluster_name_cutoff = 3\n",
    "\n",
    "\n",
    "obj_clusters = {obj_id:clus for obj_id,clus in zip(matrix.index,cluster.labels_)}\n",
    "\n",
    "cluster_objects = {}\n",
    "cluster_barcode_names = {}\n",
    "cluster_found_barcodes = {}\n",
    "cluster_n_found_barcodes = {}\n",
    "\n",
    "for clu in np.unique(cluster.labels_):\n",
    "    cluster_objects[clu] = matrix.index[cluster.labels_ == clu]\n",
    "\n",
    "    avg_bc_counts = np.mean(matrix[cluster.labels_ == clu],axis=0)\n",
    "    # print(avg_bc_counts)\n",
    "    # break\n",
    "\n",
    "    found_bcs = []\n",
    "\n",
    "    for bc in barcode_cols:\n",
    "        if avg_bc_counts[bc] > cutoff:\n",
    "            found_bcs.append(bc)\n",
    "\n",
    "    print(clu,found_bcs)\n",
    "\n",
    "    cluster_found_barcodes[clu] = found_bcs\n",
    "    cluster_n_found_barcodes[clu] = len(found_bcs)\n",
    "\n",
    "    cluster_barcode_names[clu] = '-'.join(sorted(found_bcs))"
   ]
  },
  {
   "cell_type": "code",
   "execution_count": null,
   "metadata": {},
   "outputs": [],
   "source": [
    "adata_genes.obs['bc_cluster'] = [obj_clusters[obj_id] if obj_id in obj_clusters else np.nan for obj_id in adata_genes.obs.index]\n",
    "adata_genes.obs['bc_cluster_n_bcs'] = [cluster_n_found_barcodes[obj_clusters[obj_id]] if obj_id in obj_clusters else np.nan for obj_id in adata_genes.obs.index]\n",
    "adata_genes.obs['bc_cluster_found_bcs'] = [cluster_found_barcodes[obj_clusters[obj_id]] if obj_id in obj_clusters else np.nan for obj_id in adata_genes.obs.index]\n",
    "adata_genes.obs['bc_cluster_bc_names'] = [cluster_barcode_names[obj_clusters[obj_id]] if obj_id in obj_clusters else np.nan for obj_id in adata_genes.obs.index]"
   ]
  },
  {
   "cell_type": "code",
   "execution_count": null,
   "metadata": {},
   "outputs": [],
   "source": [
    "triple_bc_clusters = adata_genes.obs[adata_genes.obs['bc_cluster_n_bcs'] >= 3]    \n",
    "\n",
    "cs,counts = np.unique([int(x) for x in triple_bc_clusters['bc_cluster'].values],return_counts=True)\n",
    "\n",
    "cs[np.argsort(counts)[::-1]]"
   ]
  }
 ],
 "metadata": {
  "language_info": {
   "name": "python"
  }
 },
 "nbformat": 4,
 "nbformat_minor": 2
}
