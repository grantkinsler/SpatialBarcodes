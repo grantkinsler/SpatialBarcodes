{
 "cells": [
  {
   "cell_type": "code",
   "execution_count": 2,
   "metadata": {},
   "outputs": [],
   "source": [
    "import numpy as np\n",
    "# import cv2\n",
    "import tifffile as tiff\n",
    "from shapely.geometry import Polygon, mapping, shape, box\n",
    "from skimage import io\n",
    "from skimage.measure import label, regionprops\n",
    "import matplotlib.pyplot as plt\n",
    "# import json\n",
    "from rasterio import features\n",
    "import scanpy as sc\n",
    "import pandas as pd\n",
    "import geopandas as gpd\n",
    "\n",
    "import pickle\n",
    "import scipy\n",
    "\n",
    "import seaborn as sns\n",
    "\n",
    "from SGanalysis.SGobject import SGobject\n",
    "\n",
    "import matplotlib\n",
    "%matplotlib inline\n",
    "# matplotlib.use('Qt5Agg')\n",
    "# %matplotlib qt"
   ]
  },
  {
   "cell_type": "code",
   "execution_count": 3,
   "metadata": {},
   "outputs": [],
   "source": [
    "# filepath  = '/Users/grantkinsler/RajLab Dropbox/Grant Kinsler/Shared_Grant/SpatialBarcodes/ImagingData/2024-02-27_spatialbarcodes_SG_expression/projects/2024-02-27_spatialbarcodes_expression/'\n",
    "filepath = '/Users/grantkinsler/RajLab Dropbox/Grant Kinsler/SpatialBarcodes/ImagingData/2024-05-21_mouseexp_expression/projects/'\n",
    "\n",
    "# roi_2\n",
    "roi_name = 'roi_2'\n",
    "\n",
    "\n",
    "# /roi_2"
   ]
  },
  {
   "cell_type": "code",
   "execution_count": 4,
   "metadata": {},
   "outputs": [
    {
     "name": "stdout",
     "output_type": "stream",
     "text": [
      "Running mask_to_objects...\n"
     ]
    }
   ],
   "source": [
    "## import segmentation \n",
    "\n",
    "# Create an instance of SGobject\n",
    "sg_obj = SGobject()\n",
    "\n",
    "# Convert a TIFF image to polygons and store them in a GeoDataFrame\n",
    "print(\"Running mask_to_objects...\")\n",
    "sg_obj.mask_to_objects(f'{filepath}{roi_name}/exports/nuclei_mask_20240604.tiff')"
   ]
  },
  {
   "cell_type": "code",
   "execution_count": 5,
   "metadata": {},
   "outputs": [],
   "source": [
    "## import spots\n",
    "\n",
    "spot_file = f'{filepath}{roi_name}/exports/decode_20240604.csv'\n",
    "\n",
    "sg_obj.load_points(spot_file)"
   ]
  },
  {
   "cell_type": "code",
   "execution_count": null,
   "metadata": {},
   "outputs": [],
   "source": [
    "## associate spots with segmentation\n",
    "\n",
    "sg_obj.create_cell_gene_table()"
   ]
  },
  {
   "cell_type": "code",
   "execution_count": null,
   "metadata": {},
   "outputs": [],
   "source": [
    "with open(f'{filepath}{roi_name}/exports/sg_object_20240604.pkl', 'wb') as f:\n",
    "    pickle.dump(sg_obj, f)\n",
    "\n",
    "# with open(f'{filepath}{roi_name}/exports/sg_object_decode_20240314_segmentation_1.pkl', 'rb') as f:\n",
    "#     sg_obj = pickle.load(f)"
   ]
  },
  {
   "cell_type": "code",
   "execution_count": null,
   "metadata": {},
   "outputs": [],
   "source": []
  }
 ],
 "metadata": {
  "kernelspec": {
   "display_name": "spatialgenomics-env2",
   "language": "python",
   "name": "python3"
  },
  "language_info": {
   "codemirror_mode": {
    "name": "ipython",
    "version": 3
   },
   "file_extension": ".py",
   "mimetype": "text/x-python",
   "name": "python",
   "nbconvert_exporter": "python",
   "pygments_lexer": "ipython3",
   "version": "3.9.13"
  }
 },
 "nbformat": 4,
 "nbformat_minor": 2
}
