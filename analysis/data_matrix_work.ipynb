{
 "cells": [
  {
   "cell_type": "code",
   "execution_count": 3,
   "metadata": {},
   "outputs": [],
   "source": [
    "import seaborn as sns\n",
    "import numpy as np\n",
    "import matplotlib.pyplot as plt\n",
    "import pandas as pd\n",
    "import scipy\n",
    "import scanpy as sc\n",
    "\n",
    "%matplotlib inline\n"
   ]
  },
  {
   "cell_type": "code",
   "execution_count": 4,
   "metadata": {},
   "outputs": [],
   "source": [
    "# import the data from the spatial barcode experiment\n",
    "gene_by_cell_matrix = pd.read_csv('../data/2027-02-27_spatialbarcode_SG_expression/roi_2/matrix_decode_1_segmentation_1_nuclei.csv',index_col=0)\n",
    "\n",
    "# get the barcode columns and gene columns\n",
    "barcode_cols = ['bc_{:03d}'.format(i) for i in range(1,97)]\n",
    "gene_cols = [col for col in gene_by_cell_matrix.columns if col not in barcode_cols] "
   ]
  },
  {
   "cell_type": "code",
   "execution_count": null,
   "metadata": {},
   "outputs": [],
   "source": [
    "# convert the data to a format that scanpy can use (cells x genes) and only keep the gene columns for now\n",
    "adata= sc.AnnData(df[gene_cols])"
   ]
  }
 ],
 "metadata": {
  "kernelspec": {
   "display_name": "spatialgenomics-env2",
   "language": "python",
   "name": "python3"
  },
  "language_info": {
   "codemirror_mode": {
    "name": "ipython",
    "version": 3
   },
   "file_extension": ".py",
   "mimetype": "text/x-python",
   "name": "python",
   "nbconvert_exporter": "python",
   "pygments_lexer": "ipython3",
   "version": "3.9.13"
  }
 },
 "nbformat": 4,
 "nbformat_minor": 2
}
