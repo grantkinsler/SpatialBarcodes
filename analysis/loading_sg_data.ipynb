{
 "cells": [
  {
   "cell_type": "code",
   "execution_count": 1,
   "metadata": {},
   "outputs": [],
   "source": [
    "import numpy as np\n",
    "# import cv2\n",
    "import tifffile as tiff\n",
    "from shapely.geometry import Polygon, mapping, shape, box\n",
    "from skimage import io\n",
    "from skimage.measure import label, regionprops\n",
    "import matplotlib.pyplot as plt\n",
    "# import json\n",
    "from rasterio import features\n",
    "import scanpy as sc\n",
    "import pandas as pd\n",
    "import geopandas as gpd\n",
    "%matplotlib inline\n",
    "import pickle\n",
    "import scipy\n",
    "\n",
    "import seaborn as sns\n",
    "\n",
    "from SGanalysis.SGobject import SGobject"
   ]
  },
  {
   "cell_type": "code",
   "execution_count": 2,
   "metadata": {},
   "outputs": [],
   "source": [
    "filepath  = '/Users/grantkinsler/Dropbox (RajLab)/Shared_Grant/SpatialBarcodes/ImagingData/2024-02-27_spatialbarcodes_SG_expression/projects/2024-02-27_spatialbarcodes_expression/'\n",
    "roi_name = 'roi_2'"
   ]
  },
  {
   "cell_type": "code",
   "execution_count": null,
   "metadata": {},
   "outputs": [],
   "source": [
    "## import segmentation\n",
    "\n",
    "from SGanalysis.SGobject import SGobject\n",
    "\n",
    "# Create an instance of SGobject\n",
    "sg_obj = SGobject()\n",
    "\n",
    "# Convert a TIFF image to polygons and store them in a GeoDataFrame\n",
    "print(\"Running mask_to_objects...\")\n",
    "sg_obj.mask_to_objects(f'{filepath}{roi_name}/segmentations/segmentation_1_nuclei.tiff')"
   ]
  },
  {
   "cell_type": "code",
   "execution_count": null,
   "metadata": {},
   "outputs": [],
   "source": [
    "## import spots\n",
    "\n",
    "spot_file = f'{filepath}{roi_name}/exports/decode_20240314_withcoordinates.csv'\n",
    "\n",
    "sg_obj.load_points(spot_file)"
   ]
  },
  {
   "cell_type": "code",
   "execution_count": null,
   "metadata": {},
   "outputs": [],
   "source": [
    "## associate spots with segmentation\n",
    "\n",
    "sg_obj.create_cell_gene_table()"
   ]
  },
  {
   "cell_type": "code",
   "execution_count": 3,
   "metadata": {},
   "outputs": [],
   "source": [
    "## save the sg object to a pickle file so that we don't have to redo all of the above steps that take a while in the future.\n",
    "\n",
    "# with open(f'{filepath}{roi_name}/exports/sg_object_decode_20240314_segmentation_1.pkl', 'wb') as f:\n",
    "#     pickle.dump(sg_obj, f)\n",
    "\n",
    "## if we wanted to load the pickle file, we could run the commented code below\n",
    "\n",
    "with open(f'{filepath}{roi_name}/exports/sg_object_decode_20240314_segmentation_1.pkl', 'rb') as f:\n",
    "    sg_obj = pickle.load(f)"
   ]
  },
  {
   "cell_type": "code",
   "execution_count": 6,
   "metadata": {},
   "outputs": [
    {
     "data": {
      "text/plain": [
       "0             POINT (9310.387 8.913)\n",
       "1            POINT (6475.859 12.348)\n",
       "2           POINT (24695.071 14.397)\n",
       "3           POINT (11512.465 18.850)\n",
       "4           POINT (14620.955 16.886)\n",
       "                    ...             \n",
       "16371    POINT (19899.601 35594.028)\n",
       "16372    POINT (20379.341 35601.878)\n",
       "16373    POINT (22879.829 35591.004)\n",
       "16374    POINT (24816.056 35588.584)\n",
       "16375    POINT (12979.797 35592.946)\n",
       "Length: 16376, dtype: geometry"
      ]
     },
     "execution_count": 6,
     "metadata": {},
     "output_type": "execute_result"
    }
   ],
   "source": [
    "sg_obj.gdf.centroid"
   ]
  },
  {
   "cell_type": "code",
   "execution_count": null,
   "metadata": {},
   "outputs": [],
   "source": [
    "# get the cell by gene table\n",
    "df = sg_obj.get_cell_gene_table_df()"
   ]
  },
  {
   "cell_type": "code",
   "execution_count": null,
   "metadata": {},
   "outputs": [],
   "source": [
    "# look at the first few rows of the dataframe\n",
    "df.head()"
   ]
  },
  {
   "cell_type": "code",
   "execution_count": null,
   "metadata": {},
   "outputs": [],
   "source": [
    "# let's print some basic statistics about the data\n",
    "sg_obj.generate_statistics_and_histograms()"
   ]
  },
  {
   "cell_type": "markdown",
   "metadata": {},
   "source": [
    "Goal 1. Cluster cells based on their gene expression from the spatial genomics data."
   ]
  },
  {
   "cell_type": "code",
   "execution_count": null,
   "metadata": {},
   "outputs": [],
   "source": [
    "# associate with the barcode information\n",
    "\n",
    "\n",
    "cell_barcodes = {}\n",
    "\n",
    "# df.sort_index(inplace=True)\n",
    "\n",
    "# set cutoff for barcode counting in analysis\n",
    "\n",
    "cutoff = 1 # need more than this number of spots to call a barocde.\n",
    "# cutoff = 3\n",
    "\n",
    "n_cells = {}\n",
    "\n",
    "for bc in ['bc_{:03d}'.format(i) for i in range(1,97)]:\n",
    "    n_cells[bc] = len(df[df[bc]>cutoff][bc].values)\n",
    "\n",
    "\n",
    "df['cell_id'] = df.index\n",
    "\n",
    "for cell_id in df['cell_id']:\n",
    "    this_cell = df[df['cell_id']==cell_id]\n",
    "    cell_barcodes[cell_id] = []\n",
    "\n",
    "    for bc in barcode_cols:\n",
    "        if this_cell[bc].values[0] > cutoff:\n",
    "            cell_barcodes[cell_id].append(bc)\n",
    "\n",
    "df['called_barcodes'] = cell_barcodes.values()\n",
    "df['n_called_barcodes'] = [len(bc_set) for bc_set in cell_barcodes.values()]\n",
    "df['barcode_names'] = ['-'.join(sorted(bc_set)) for bc_set in cell_barcodes.values()]\n",
    "\n",
    "# if working with sg_obj, this merges and gives you cell locations.\n",
    "# df = pd.merge(df,sg_obj.gdf[['nucleus_centroid','nucleus']],how='left',left_index=True,right_index=True)\n",
    "\n",
    "# # get each cell polygon's position\n",
    "# df['location'] = sg_obj.gdf['nucleus'].centroid.values\n",
    "# df['location_x'] = sg_obj.gdf['nucleus'].centroid.x.values\n",
    "# df['location_y'] = sg_obj.gdf['nucleus'].centroid.y.values"
   ]
  },
  {
   "cell_type": "markdown",
   "metadata": {},
   "source": []
  }
 ],
 "metadata": {
  "kernelspec": {
   "display_name": "spatialgenomics-env2",
   "language": "python",
   "name": "python3"
  },
  "language_info": {
   "codemirror_mode": {
    "name": "ipython",
    "version": 3
   },
   "file_extension": ".py",
   "mimetype": "text/x-python",
   "name": "python",
   "nbconvert_exporter": "python",
   "pygments_lexer": "ipython3",
   "version": "3.9.13"
  }
 },
 "nbformat": 4,
 "nbformat_minor": 2
}
