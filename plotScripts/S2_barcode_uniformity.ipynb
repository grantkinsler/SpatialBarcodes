{
 "cells": [
  {
   "cell_type": "code",
   "execution_count": 16,
   "metadata": {},
   "outputs": [],
   "source": [
    "import pandas as pd\n",
    "import scipy.spatial.distance as sci_dist\n",
    "import matplotlib\n",
    "matplotlib.use('QtAgg')\n",
    "import seaborn as sns\n",
    "import numpy as np\n",
    "from PIL import Image\n",
    "import matplotlib.pyplot as plt\n",
    "import matplotlib\n",
    "Image.MAX_IMAGE_PIXELS = None\n",
    "import numpy as np\n",
    "import matplotlib.pyplot as plt\n",
    "from scipy.stats import poisson\n",
    "import os\n",
    "np.random.seed(0)\n",
    "matplotlib.rcParams['pdf.fonttype'] = 42\n",
    "\n",
    "plt.rcParams['font.family'] = 'sans-serif'\n",
    "plt.rcParams['font.sans-serif'] = ['Arial']\n",
    "\n",
    "data_folder = '/Users/yaelheyman/RajLab Dropbox/Yael Heyman/SpatialBarcodes/ImagingData/2024-02-27_spatialbarcodes_SG_expression/projects/2024-02-27_spatialbarcodes_expression/roi_2/exports'\n",
    "cell_by_gene_path = data_folder + '/cell_by_gene_matrix_dilate10_20240718_withbarcodes_atleast3.csv'\n",
    "transcripts_path = data_folder + '/decode_1_withcoordinates.csv'\n",
    "coords_path = data_folder + '/segmentation_1_nuclei_cellattributes.csv'\n",
    "region_data = '/Users/YaelHeyman/RajLab Dropbox/Yael Heyman/SpatialBarcodes/ImagingData/2024-02-27_spatialbarcodes_SG_expression/processedData/Region_Data_with_Minimal_Values.csv'\n",
    "\n",
    "output_folder = data_folder + '/processedData'\n",
    "cell_by_gene = pd.read_csv(cell_by_gene_path)\n"
   ]
  },
  {
   "cell_type": "code",
   "execution_count": 17,
   "metadata": {},
   "outputs": [
    {
     "name": "stdout",
     "output_type": "stream",
     "text": [
      "/Users/yaelheyman/RajLab Dropbox/Yael Heyman/SpatialBarcodes/ImagingData/2024-02-27_spatialbarcodes_SG_expression/projects/2024-02-27_spatialbarcodes_expression/roi_1/exports\n",
      "/Users/yaelheyman/RajLab Dropbox/Yael Heyman/SpatialBarcodes/ImagingData/2024-02-27_spatialbarcodes_SG_expression/projects/2024-02-27_spatialbarcodes_expression/roi_2/exports\n",
      "/Users/yaelheyman/RajLab Dropbox/Yael Heyman/SpatialBarcodes/ImagingData/2024-02-27_spatialbarcodes_SG_expression/projects/2024-02-27_spatialbarcodes_expression/roi_3/exports\n"
     ]
    }
   ],
   "source": [
    "pixel2um = 107.11 / 1000000  # Convert pixel to micrometers\n",
    "combined_df = pd.DataFrame()\n",
    "region_data = pd.read_csv(region_data)\n",
    "for j in range(1,4):  # Adjust range as needed\n",
    "    # Dynamically construct the path\n",
    "    data_folder = f\"/Users/yaelheyman/RajLab Dropbox/Yael Heyman/SpatialBarcodes/ImagingData/2024-02-27_spatialbarcodes_SG_expression/projects/2024-02-27_spatialbarcodes_expression/roi_{j}/exports\"\n",
    "    cell_by_gene_path = os.path.join(data_folder, 'cell_by_gene_matrix_dilate10_20240718_withbarcodes_atleast3.csv')\n",
    "    print(data_folder)\n",
    "    # Load the cell by gene data\n",
    "    cell_by_gene = pd.read_csv(cell_by_gene_path, index_col=0)\n",
    "        # Get reference X and Y from region_data as scalar values\n",
    "    ref_x = region_data.loc[region_data['Region'] == f\"Region {j}\", \"Min X (mm)\"].iloc[0]\n",
    "    ref_y = region_data.loc[region_data['Region'] == f\"Region {j}\", \"Min Y (mm)\"].iloc[0]\n",
    "    \n",
    "    # Correct the coordinates\n",
    "    cell_by_gene['center_x'] = (cell_by_gene['center_x'] * pixel2um + ref_x)*1000\n",
    "    cell_by_gene['center_y'] = (cell_by_gene['center_y'] * pixel2um + ref_y)*1000\n",
    "    # Adjust the cell_id to make them unique across regions\n",
    "    cell_by_gene['cell_id'] = cell_by_gene['cell_id'] + j * 100000\n",
    "    \n",
    "    # Concatenate to the combined DataFrame\n",
    "    combined_df = pd.concat([combined_df, cell_by_gene], ignore_index=True)"
   ]
  },
  {
   "cell_type": "code",
   "execution_count": 18,
   "metadata": {},
   "outputs": [],
   "source": [
    "\n",
    "import ast\n",
    "from collections import Counter\n",
    "# Load the data\n",
    "df = combined_df \n",
    "\n",
    "plt.rcParams['font.family'] = 'sans-serif'\n",
    "plt.rcParams['font.sans-serif'] = ['Arial']\n",
    "# Drop empty barcode entries (e.g., '[]' or NaN)\n",
    "called = df['called_barcodes'].dropna()\n",
    "called = called[called != '[]']\n",
    "\n",
    "# Convert string representation of list to actual Python list using ast.literal_eval\n",
    "barcode_lists = called.apply(ast.literal_eval)\n",
    "\n",
    "# Flatten all barcodes into one list\n",
    "all_barcodes = [barcode for sublist in barcode_lists for barcode in sublist]\n",
    "\n",
    "# Count frequency of each barcode\n",
    "barcode_counts = Counter(all_barcodes)\n",
    "barcode_series = pd.Series(barcode_counts).sort_values(ascending=False)\n",
    "# Sort by numeric value in 'bc_###'\n",
    "barcode_series = barcode_series.sort_index(key=lambda x: x.str.extract(r'(\\d+)')[0].astype(int))\n",
    "\n",
    "# Plot\n",
    "plt.figure(figsize=(14, 6))\n",
    "barcode_series.plot(kind='bar', edgecolor='black')\n",
    "plt.xlabel(\"Barcode identity\", fontsize = 12)\n",
    "plt.ylabel(\"Barcode abundance\", fontsize = 12)\n",
    "plt.xticks(rotation=90)\n",
    "plt.tight_layout()\n",
    "plt.savefig(os.path.join(data_folder, 'barcode_abundance.png'))\n",
    "plt.show()\n"
   ]
  },
  {
   "cell_type": "code",
   "execution_count": 21,
   "metadata": {},
   "outputs": [],
   "source": [
    "# Normalize counts to probabilities\n",
    "barcode_probabilities = barcode_series / barcode_series.sum()\n",
    "\n",
    "# Convert to DataFrame\n",
    "barcode_df = pd.DataFrame({\n",
    "    'barcode': barcode_probabilities.index,\n",
    "    'probability': barcode_probabilities.values\n",
    "})\n",
    "\n",
    "# Save as CSV\n",
    "barcode_df.to_csv(os.path.join(data_folder, 'barcode_probabilities.csv'), index=False)\n"
   ]
  }
 ],
 "metadata": {
  "kernelspec": {
   "display_name": "venv",
   "language": "python",
   "name": "python3"
  },
  "language_info": {
   "codemirror_mode": {
    "name": "ipython",
    "version": 3
   },
   "file_extension": ".py",
   "mimetype": "text/x-python",
   "name": "python",
   "nbconvert_exporter": "python",
   "pygments_lexer": "ipython3",
   "version": "3.9.17"
  }
 },
 "nbformat": 4,
 "nbformat_minor": 2
}
