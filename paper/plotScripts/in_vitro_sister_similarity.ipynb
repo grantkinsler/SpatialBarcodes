{
 "cells": [
  {
   "cell_type": "code",
   "execution_count": 5,
   "metadata": {},
   "outputs": [],
   "source": [
    "import numpy as np\n",
    "# import cv2\n",
    "import tifffile as tiff\n",
    "from shapely.geometry import Polygon, mapping, shape, box\n",
    "from skimage import io\n",
    "from skimage.measure import label, regionprops\n",
    "import matplotlib.pyplot as plt\n",
    "# import json\n",
    "from rasterio import features\n",
    "import scanpy as sc\n",
    "import pandas as pd\n",
    "import geopandas as gpd\n",
    "\n",
    "import pickle\n",
    "import scipy\n",
    "\n",
    "import seaborn as sns\n",
    "\n",
    "from SGanalysis.SGobject import SGobject\n",
    "\n",
    "import matplotlib\n",
    "%matplotlib inline\n",
    "# matplotlib.use('Qt5Agg')\n",
    "# %matplotlib qt\n",
    "\n",
    "%load_ext autoreload\n",
    "%autoreload 2\n",
    "%reload_ext autoreload\n",
    "\n",
    "import sys\n",
    "import os\n",
    "\n",
    "# tools_path  = '/Users/grantkinsler/Documents/Penn/Research/SpatialBarcodes/SpatialBarcodes/analysis/tools/tools.py'\n",
    "tools_path = '../helperScripts/tools.py'\n",
    "# tools_path  = '/Users/grantkinsler/Documents/Penn/Research/SpatialBarcodes/analysis/tools/tools.py'\n",
    "\n",
    "# /Users/grantkinsler/Documents/Penn/Research/SpatialBarcodes/analysis/tools/tools.py\n",
    "sys.path.append(os.path.dirname(os.path.expanduser(tools_path)))\n",
    "import tools as tools"
   ]
  },
  {
   "cell_type": "code",
   "execution_count": 12,
   "metadata": {},
   "outputs": [],
   "source": [
    "roi_of_interest= 'dish_roi2'\n",
    "\n",
    "# load the sg_object\n",
    "with open(f'{tools.roi_file_paths[roi_of_interest][\"out_path\"]}/sg_object_dilate10_20240718.pkl', 'rb') as f:\n",
    "    sg_obj = pickle.load(f)"
   ]
  },
  {
   "cell_type": "code",
   "execution_count": 13,
   "metadata": {},
   "outputs": [],
   "source": [
    "\n",
    "# load the dataframes with the cell by gene matrices, clustered and unclustered\n",
    "unclustered_df =  pd.read_csv(f'{tools.roi_file_paths[roi_of_interest][\"out_path\"]}/cell_by_gene_matrix_dilate10_20240718_withbarcodes_atleast3.csv')\n",
    "clustered_df = pd.read_csv(f'{tools.roi_file_paths[roi_of_interest][\"out_path\"]}/cell_by_gene_matrix_dilate10_20240718_withbarcodes_clustering_10bcs_0.4thresh.csv')"
   ]
  },
  {
   "cell_type": "code",
   "execution_count": 14,
   "metadata": {},
   "outputs": [],
   "source": [
    "# merge the clustered and unclustered dataframes\n",
    "cols_to_keep = ['object_id','bc_cluster','bc_cluster_n_bcs','bc_cluster_found_bcs','bc_cluster_bc_names']\n",
    "df = unclustered_df.merge(clustered_df[cols_to_keep],on='object_id',how='left')   "
   ]
  },
  {
   "cell_type": "code",
   "execution_count": 15,
   "metadata": {},
   "outputs": [],
   "source": [
    "df['cell_id'] = [str(id) for id in df['object_id']]\n",
    "\n",
    "# sg_obj.gdf['cell_id'] = [str(x) for x in sg_obj.gdf['object_id']]\n",
    "sg_obj.gdf['object_id'] = sg_obj.gdf.index\n",
    "sg_obj.gdf['cell_id'] = sg_obj.gdf['object_id'].astype('string')\n",
    "sg_obj.gdf.index.name = 'index'\n",
    "sg_obj.gdf = sg_obj.gdf.sort_values('object_id')\n",
    "\n",
    "# assign clusters to the sg_obj\n",
    "sg_obj.gdf = sg_obj.gdf.merge(df[['cell_id']+list(df.columns.difference(sg_obj.gdf.columns))],on=['cell_id'],how='left')"
   ]
  },
  {
   "cell_type": "code",
   "execution_count": 22,
   "metadata": {},
   "outputs": [],
   "source": [
    "# df.columns\n",
    "gene_cols = [col for col in unclustered_df.columns if 'bc_' not in col and col not in ['object_id','cell_id','called_barcodes','n_called_barcodes','barcode_names','nucleus',\n",
    " 'nucleus_dilated',\n",
    " 'nucleus_centroid',\n",
    " 'center_x',\n",
    " 'center_y',\n",
    " 'area']]\n"
   ]
  },
  {
   "cell_type": "code",
   "execution_count": 27,
   "metadata": {},
   "outputs": [
    {
     "ename": "AttributeError",
     "evalue": "module 'tools' has no attribute 'gene_cols'",
     "output_type": "error",
     "traceback": [
      "\u001b[0;31m---------------------------------------------------------------------------\u001b[0m",
      "\u001b[0;31mAttributeError\u001b[0m                            Traceback (most recent call last)",
      "Cell \u001b[0;32mIn [27], line 1\u001b[0m\n\u001b[0;32m----> 1\u001b[0m \u001b[43mtools\u001b[49m\u001b[38;5;241;43m.\u001b[39;49m\u001b[43mgene_cols\u001b[49m\n",
      "\u001b[0;31mAttributeError\u001b[0m: module 'tools' has no attribute 'gene_cols'"
     ]
    }
   ],
   "source": [
    "tools.gene_cols"
   ]
  },
  {
   "cell_type": "code",
   "execution_count": 24,
   "metadata": {},
   "outputs": [
    {
     "data": {
      "text/plain": [
       "117"
      ]
     },
     "execution_count": 24,
     "metadata": {},
     "output_type": "execute_result"
    }
   ],
   "source": [
    "len(gene_cols)"
   ]
  },
  {
   "cell_type": "code",
   "execution_count": null,
   "metadata": {},
   "outputs": [],
   "source": [
    "sister_cells = {}\n",
    "for bc_set in np.unique(df[df['n_called_barcodes']>4]['barcode_names'].values):\n",
    "    if len(df[df['barcode_names']==bc_set]) > 3:\n",
    "\n",
    "        sister_cells[bc_set] = df[df['barcode_names']==bc_set].index"
   ]
  }
 ],
 "metadata": {
  "kernelspec": {
   "display_name": "Python 3",
   "language": "python",
   "name": "python3"
  },
  "language_info": {
   "codemirror_mode": {
    "name": "ipython",
    "version": 3
   },
   "file_extension": ".py",
   "mimetype": "text/x-python",
   "name": "python",
   "nbconvert_exporter": "python",
   "pygments_lexer": "ipython3",
   "version": "3.9.13"
  }
 },
 "nbformat": 4,
 "nbformat_minor": 2
}
