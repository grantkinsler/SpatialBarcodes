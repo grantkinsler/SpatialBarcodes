{
 "cells": [
  {
   "cell_type": "code",
   "execution_count": 1,
   "metadata": {},
   "outputs": [
    {
     "name": "stdout",
     "output_type": "stream",
     "text": [
      "     Region  Area (square mm)  Min X (mm)  Min Y (mm)\n",
      "0  Region 3             13.43       9.587      -3.008\n",
      "     Region  Area (square mm)  Min X (mm)  Min Y (mm)\n",
      "0  Region 1              9.77       8.059      -0.343\n",
      "1  Region 2             11.08       4.452      -0.380\n",
      "2  Region 3             11.36       0.698      -0.290\n"
     ]
    }
   ],
   "source": [
    "import re\n",
    "import pandas as pd\n",
    "\n",
    "import sys \n",
    "import os\n",
    "\n",
    "tools_path = '../helperScripts/'\n",
    "\n",
    "sys.path.append(os.path.dirname(os.path.expanduser(tools_path)))\n",
    "import tools as tools\n",
    "\n",
    "def extract_regions(file_path):\n",
    "    # Initialize lists to store extracted data\n",
    "    regions = []\n",
    "    areas = []\n",
    "    min_xs = []\n",
    "    min_ys = []\n",
    "\n",
    "    # Read the report file\n",
    "    with open(file_path, 'r') as file:\n",
    "        content = file.read()\n",
    "\n",
    "    # Use regex to find region blocks\n",
    "    region_pattern = r\"Region (\\d+)\\s+Area: ([\\d.]+) square mm\\s+X: ([\\d.]+) to [\\d.]+ mm\\s+Y: ([-\\d.]+) to [\\d.]+ mm\"\n",
    "    matches = re.findall(region_pattern, content)\n",
    "\n",
    "    # Process matches\n",
    "    for match in matches:\n",
    "        regions.append(f\"Region {match[0]}\")\n",
    "        areas.append(float(match[1]))\n",
    "        min_xs.append(float(match[2]))\n",
    "        min_ys.append(float(match[3]))\n",
    "\n",
    "    # Create a DataFrame\n",
    "    df = pd.DataFrame({\n",
    "        \"Region\": regions,\n",
    "        \"Area (square mm)\": areas,\n",
    "        \"Min X (mm)\": min_xs,\n",
    "        \"Min Y (mm)\": min_ys\n",
    "    })\n",
    "\n",
    "    return df\n",
    "\n",
    "\n",
    "rois = {'roi_2':'in_vivo','dish_roi2':'in_vitro'}\n",
    "\n",
    "for roi,roi_type in rois.items():\n",
    "    # tools.roi_file_paths[roi] = tools.get_roi_file_paths(roi,roi_type)\n",
    "    # Usage example\n",
    "    file_path = tools.roi_file_paths[roi]['raw_path']+'/../experiment_summary_report.txt'\n",
    "    df = extract_regions(file_path)\n",
    "\n",
    "    # Display the DataFrame\n",
    "    print(df)\n",
    "\n",
    "    # Optionally save to a CSV file\n",
    "    df.to_csv(f'../extractedData/{roi_type}/Region_Data_with_Minimal_Values.csv', index=False)\n"
   ]
  },
  {
   "cell_type": "code",
   "execution_count": null,
   "metadata": {},
   "outputs": [],
   "source": []
  }
 ],
 "metadata": {
  "kernelspec": {
   "display_name": "home_env",
   "language": "python",
   "name": "python3"
  },
  "language_info": {
   "codemirror_mode": {
    "name": "ipython",
    "version": 3
   },
   "file_extension": ".py",
   "mimetype": "text/x-python",
   "name": "python",
   "nbconvert_exporter": "python",
   "pygments_lexer": "ipython3",
   "version": "3.9.13"
  }
 },
 "nbformat": 4,
 "nbformat_minor": 2
}
