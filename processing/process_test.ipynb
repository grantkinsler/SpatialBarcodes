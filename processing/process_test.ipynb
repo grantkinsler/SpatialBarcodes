{
 "cells": [
  {
   "cell_type": "code",
   "execution_count": 1,
   "metadata": {},
   "outputs": [],
   "source": [
    "import numpy as np\n",
    "# import cv2\n",
    "import tifffile as tiff\n",
    "from shapely.geometry import Polygon, mapping, shape, box\n",
    "from skimage import io\n",
    "from skimage.measure import label, regionprops\n",
    "import matplotlib.pyplot as plt\n",
    "from rasterio import features\n",
    "import scanpy as sc\n",
    "import pandas as pd\n",
    "import geopandas as gpd\n",
    "\n",
    "import pickle\n",
    "import scipy\n",
    "\n",
    "from SGanalysis.SGobject import SGobject \n",
    "\n",
    "\n",
    "from sklearn.cluster import AgglomerativeClustering as AggCluster\n",
    "\n",
    "import sys\n",
    "import os\n",
    "\n",
    "# tools_path  = '/Users/grantkinsler/Documents/Penn/Research/SpatialBarcodes/analysis/tools/tools.py'\n",
    "tools_path  = '/Users/grantkinsler/Documents/Penn/Research/SpatialBarcodes/SpatialBarcodes/analysis/tools/tools.py'\n",
    "sys.path.append(os.path.dirname(os.path.expanduser(tools_path)))\n",
    "import tools"
   ]
  },
  {
   "cell_type": "code",
   "execution_count": 1,
   "metadata": {},
   "outputs": [],
   "source": [
    "\n",
    "\n",
    "# all_files = []\n",
    "\n",
    "# # filepath  = '/Users/grantkinsler/RajLab Dropbox/Grant Kinsler/Shared_Grant/SpatialBarcodes/ImagingData/2024-02-27_spatialbarcodes_SG_expression/projects/2024-02-27_spatialbarcodes_expression/'\n",
    "# filepath = '/Users/grantkinsler/RajLab Dropbox/Grant Kinsler/SpatialBarcodes/ImagingData/2024-05-21_mouseexp_expression/projects/'\n",
    "\n",
    "# # roi_2\n",
    "# roi_name = 'roi_2'\n",
    "\n",
    "# for roi in [1,2,3]:\n",
    "#     all_files.append(f'{filepath}roi_{roi_name})\n",
    "                     \n",
    "# all_files.append(')\n",
    "    \n",
    "### roi_name: [segmentation_file, spots_file, out_path]\n",
    "roi_file_paths = {\n",
    "    # 'roi_1':{'segmentation_file':'/Users/grantkinsler/RajLab Dropbox/Grant Kinsler/SpatialBarcodes/ImagingData/2024-05-21_mouseexp_expression/projects/roi_1/segmentations/nuclei_20240604_nuclei.tiff',\n",
    "    #                        'spots_file':'/Users/grantkinsler/RajLab Dropbox/Grant Kinsler/SpatialBarcodes/ImagingData/2024-05-21_mouseexp_expression/projects/roi_1/exports/decode_20240604.csv',\n",
    "    #                         'out_path':'/Users/grantkinsler/RajLab Dropbox/Grant Kinsler/SpatialBarcodes/ImagingData/2024-05-21_mouseexp_expression/projects/roi_1/exports'\n",
    "    #                        },\n",
    "    #               'roi_2':{'segmentation_file':'/Users/grantkinsler/RajLab Dropbox/Grant Kinsler/SpatialBarcodes/ImagingData/2024-05-21_mouseexp_expression/projects/roi_2/segmentations/nuclei_20240529_nuclei.tiff',\n",
    "    #                        'spots_file':'/Users/grantkinsler/RajLab Dropbox/Grant Kinsler/SpatialBarcodes/ImagingData/2024-05-21_mouseexp_expression/projects/roi_2/exports/decode_20240604.csv',\n",
    "    #                         'out_path':'/Users/grantkinsler/RajLab Dropbox/Grant Kinsler/SpatialBarcodes/ImagingData/2024-05-21_mouseexp_expression/projects/roi_2/exports'\n",
    "    #                        },\n",
    "    #               'roi_3':{'segmentation_file':'/Users/grantkinsler/RajLab Dropbox/Grant Kinsler/SpatialBarcodes/ImagingData/2024-05-21_mouseexp_expression/projects/roi_3/segmentations/nuclei_20240604_nuclei.tiff',\n",
    "    #                        'spots_file':'/Users/grantkinsler/RajLab Dropbox/Grant Kinsler/SpatialBarcodes/ImagingData/2024-05-21_mouseexp_expression/projects/roi_3/exports/decode_20240604.csv',\n",
    "    #                         'out_path':'/Users/grantkinsler/RajLab Dropbox/Grant Kinsler/SpatialBarcodes/ImagingData/2024-05-21_mouseexp_expression/projects/roi_3/exports'\n",
    "    #                        },\n",
    "                #   'timezero':{'segmentation_file':'/Users/grantkinsler/RajLab Dropbox/Grant Kinsler/SpatialBarcodes/ImagingData/2024-04-27_spatialbarcodes_SG_expression_mouse_exp/time_zero_output/roi1/segmentations/segmentation_20240513_nuclei.tiff',\n",
    "                #               # 'spots_file':'/Users/grantkinsler/RajLab Dropbox/Grant Kinsler/SpatialBarcodes/ImagingData/2024-04-27_spatialbarcodes_SG_expression_mouse_exp/time_zero_output/roi1/genes/matrix_20240517_segmentation_segmentation_20240513_cells.csv',\n",
    "                #               'spots_file':'/Users/grantkinsler/RajLab Dropbox/Grant Kinsler/SpatialBarcodes/ImagingData/2024-04-27_spatialbarcodes_SG_expression_mouse_exp/time_zero_output/roi1/transcripts/20240517_segmentation_withRefid.csv',\n",
    "                #               'out_path':'/Users/grantkinsler/RajLab Dropbox/Grant Kinsler/SpatialBarcodes/ImagingData/2024-04-27_spatialbarcodes_SG_expression_mouse_exp/time_zero_output/roi1/exports'\n",
    "                #               },\n",
    "\n",
    "                    'run2_roi_1':{'segmentation_file':'/Users/grantkinsler/Documents/Penn/Research/SpatialBarcodes/SpatialBarcodes/data/decoded_data/2024-08-08_spatialbarcode_tumor2_projects/roi_1/exports/segmentation.tiff',\n",
    "                                'spots_file':'/Users/grantkinsler/Documents/Penn/Research/SpatialBarcodes/SpatialBarcodes/data/decoded_data/2024-08-08_spatialbarcode_tumor2_projects/roi_1/exports/transcripts.csv',\n",
    "                                'out_path':'/Users/grantkinsler/Documents/Penn/Research/SpatialBarcodes/SpatialBarcodes/data/processed_data/2024-08-08_spatialbarcode_tumor2/roi_1',\n",
    "                                  },\n",
    "                    'run2_roi_2':{'segmentation_file':'/Users/grantkinsler/Documents/Penn/Research/SpatialBarcodes/SpatialBarcodes/data/decoded_data/2024-08-08_spatialbarcode_tumor2_projects/roi_2/exports/segmentation.tiff',\n",
    "                                'spots_file':'/Users/grantkinsler/Documents/Penn/Research/SpatialBarcodes/SpatialBarcodes/data/decoded_data/2024-08-08_spatialbarcode_tumor2_projects/roi_2/exports/transcripts.csv',\n",
    "                                'out_path':'/Users/grantkinsler/Documents/Penn/Research/SpatialBarcodes/SpatialBarcodes/data/processed_data/2024-08-08_spatialbarcode_tumor2/roi_2',\n",
    "                                },\n",
    "                    'run2_roi_3':{'segmentation_file':'/Users/grantkinsler/Documents/Penn/Research/SpatialBarcodes/SpatialBarcodes/data/decoded_data/2024-08-08_spatialbarcode_tumor2_projects/roi_3/exports/segmentation.tiff',\n",
    "                                'spots_file':'/Users/grantkinsler/Documents/Penn/Research/SpatialBarcodes/SpatialBarcodes/data/decoded_data/2024-08-08_spatialbarcode_tumor2_projects/roi_3/exports/transcripts.csv',\n",
    "                                'out_path':'/Users/grantkinsler/Documents/Penn/Research/SpatialBarcodes/SpatialBarcodes/data/processed_data/2024-08-08_spatialbarcode_tumor2/roi_3',\n",
    "                                },\n",
    "\n",
    "\n",
    "        \n",
    "                    # 'dish_roi2':{'segmentation_file':'/Users/grantkinsler/RajLab Dropbox/Grant Kinsler/SpatialBarcodes/ImagingData/2024-04-27_spatialbarcodes_SG_expression_mouse_exp/time_zero_output/roi1/segmentations/segmentation_20240513_nuclei.tiff',\n",
    "                    #           # 'spots_file':'/Users/grantkinsler/RajLab Dropbox/Grant Kinsler/SpatialBarcodes/ImagingData/2024-04-27_spatialbarcodes_SG_expression_mouse_exp/time_zero_output/roi1/genes/matrix_20240517_segmentation_segmentation_20240513_cells.csv',\n",
    "                    #           'spots_file':'/Users/grantkinsler/RajLab Dropbox/Grant Kinsler/SpatialBarcodes/ImagingData/2024-04-27_spatialbarcodes_SG_expression_mouse_exp/time_zero_output/roi1/transcripts/20240517_segmentation_withRefid.csv',\n",
    "                    #           'out_path':'/Users/grantkinsler/RajLab Dropbox/Grant Kinsler/SpatialBarcodes/ImagingData/2024-04-27_spatialbarcodes_SG_expression_mouse_exp/time_zero_output/roi1/exports'\n",
    "                    #           },\n",
    "                  \n",
    "                  }"
   ]
  },
  {
   "cell_type": "code",
   "execution_count": 3,
   "metadata": {},
   "outputs": [],
   "source": [
    "out_path = roi_file_paths['run2_roi_1']['out_path']"
   ]
  },
  {
   "cell_type": "code",
   "execution_count": 4,
   "metadata": {},
   "outputs": [],
   "source": [
    "with open(f'{out_path}/sg_object_dilate10_20240718.pkl', 'rb') as f:\n",
    "        sg_obj = pickle.load(f)"
   ]
  },
  {
   "cell_type": "code",
   "execution_count": 6,
   "metadata": {},
   "outputs": [
    {
     "name": "stdout",
     "output_type": "stream",
     "text": [
      "No filtering available or applied.\n"
     ]
    }
   ],
   "source": [
    "matrix = sg_obj.get_cell_gene_table_df()"
   ]
  },
  {
   "cell_type": "code",
   "execution_count": 9,
   "metadata": {},
   "outputs": [],
   "source": [
    "matrix['object_id'] = matrix.index"
   ]
  },
  {
   "cell_type": "code",
   "execution_count": 12,
   "metadata": {},
   "outputs": [
    {
     "name": "stdout",
     "output_type": "stream",
     "text": [
      "No filtering available or applied.\n"
     ]
    }
   ],
   "source": [
    "matrix = sg_obj.get_cell_gene_table_df()\n",
    "matrix['object_id'] = [str(int(x)) for x in matrix.index]\n",
    "matrix.set_index('object_id',inplace=True)\n",
    "\n",
    "sg_obj.gdf['object_id'] = [str(int(x)) for x in sg_obj.gdf['object_id']]\n",
    "sg_obj.gdf.set_index('object_id',inplace=True)\n",
    "\n",
    "sg_obj.gdf['nucleus_centroid'] = sg_obj.gdf['nucleus'].centroid.values\n",
    "sg_obj.gdf['center_x'] = sg_obj.gdf['nucleus'].centroid.x.values\n",
    "sg_obj.gdf['center_y'] = sg_obj.gdf['nucleus'].centroid.y.values\n",
    "sg_obj.gdf['area'] = sg_obj.gdf['nucleus_dilated'].area.values\n",
    "\n",
    "barcode_cols = ['bc_{:03d}'.format(i) for i in range(1,97)]"
   ]
  },
  {
   "cell_type": "code",
   "execution_count": 16,
   "metadata": {},
   "outputs": [],
   "source": [
    "cutoff = 3\n",
    "\n",
    "cell_barcodes = {}\n",
    "# matrix.set_index('object_id',   inplace=True)\n",
    "# df.set_index('object_id')\n",
    "\n",
    "df = matrix\n",
    "df['cell_id'] = df.index\n",
    "\n",
    "for cell_id in df['cell_id']:\n",
    "    this_cell = df[df['cell_id']==cell_id]\n",
    "    cell_barcodes[cell_id] = []\n",
    "\n",
    "    for bc in barcode_cols:\n",
    "        if this_cell[bc].values[0] >= cutoff:\n",
    "            cell_barcodes[cell_id].append(bc)\n",
    "\n",
    "df['called_barcodes'] = cell_barcodes.values()\n",
    "df['n_called_barcodes'] = [len(bc_set) for bc_set in cell_barcodes.values()]\n",
    "df['barcode_names'] = ['-'.join(sorted(bc_set)) for bc_set in cell_barcodes.values()]\n",
    "\n",
    "df = pd.merge(df,sg_obj.gdf,how='left',left_index=True,right_index=True)"
   ]
  },
  {
   "cell_type": "code",
   "execution_count": 17,
   "metadata": {},
   "outputs": [
    {
     "name": "stdout",
     "output_type": "stream",
     "text": [
      "Clustering barcodes...\n"
     ]
    },
    {
     "ename": "",
     "evalue": "",
     "output_type": "error",
     "traceback": [
      "\u001b[1;31mThe Kernel crashed while executing code in the the current cell or a previous cell. Please review the code in the cell(s) to identify a possible cause of the failure. Click <a href='https://aka.ms/vscodeJupyterKernelCrash'>here</a> for more info. View Jupyter <a href='command:jupyter.viewOutput'>log</a> for further details."
     ]
    }
   ],
   "source": [
    "df.to_csv(f'{out_path}/cell_by_gene_matrix_dilate10_withbarcodes_atleast{cutoff}.csv')\n",
    "\n",
    "total_bc_threshold = 10\n",
    "\n",
    "# include cells with at least 10 barcode spots\n",
    "has_bcs = df[df[barcode_cols].sum(axis=1) >= 10]\n",
    "matrix = has_bcs[barcode_cols]\n",
    "\n",
    "print('Caluclating barcode distance matrices')\n",
    "\n",
    "matrix_norm = matrix.div(matrix.sum(axis=1), axis=0)\n",
    "braycurtis_dist = scipy.spatial.distance.pdist(matrix_norm,metric='braycurtis')\n",
    "\n",
    "braycurtis_dist_square = scipy.spatial.distance.squareform(braycurtis_dist)\n",
    "\n",
    "print('Distance computed! Proceding to clustering...')\n",
    "\n",
    "threshold = 0.4\n",
    "cluster = AggCluster(distance_threshold=threshold,n_clusters=None,linkage='average',affinity='precomputed').fit(braycurtis_dist_square)\n",
    "\n",
    "\n",
    "gene_cols = [col for col in df.columns if 'bc_' not in col and col not in ['cell_id','called_barcodes','n_called_barcodes','barcode_names','area','center_x','center_y','nucleus','nucleus_centroid','nucleus_dilated']]    \n",
    "\n",
    "adata_genes = sc.AnnData(df[gene_cols])\n",
    "\n",
    "\n",
    "cols= ['cell_id','n_called_barcodes','barcode_names','called_barcodes','area','center_x','center_y']\n",
    "# for col in :\n",
    "#     adata_genes.obs[col] = df[col]\n",
    "\n",
    "adata_genes.obs = df[cols]\n",
    "\n",
    "\n",
    "cluster_name_cutoff = 3\n",
    "\n",
    "obj_clusters = {obj_id:clus for obj_id,clus in zip(matrix.index,cluster.labels_)}\n",
    "\n",
    "cluster_objects = {}\n",
    "cluster_barcode_names = {}\n",
    "cluster_found_barcodes = {}\n",
    "cluster_n_found_barcodes = {}\n",
    "\n",
    "for clu in np.unique(cluster.labels_):\n",
    "    cluster_objects[clu] = matrix.index[cluster.labels_ == clu]\n",
    "\n",
    "    avg_bc_counts = np.mean(matrix[cluster.labels_ == clu],axis=0)\n",
    "    # print(avg_bc_counts)\n",
    "    # break\n",
    "\n",
    "    found_bcs = []\n",
    "\n",
    "    for bc in barcode_cols:\n",
    "        if avg_bc_counts[bc] > cutoff:\n",
    "            found_bcs.append(bc)\n",
    "\n",
    "    print(clu,found_bcs)\n",
    "\n",
    "    cluster_found_barcodes[clu] = found_bcs\n",
    "    cluster_n_found_barcodes[clu] = len(found_bcs)\n",
    "\n",
    "    cluster_barcode_names[clu] = '-'.join(sorted(found_bcs))\n",
    "\n",
    "adata_genes.obs['bc_cluster'] = [obj_clusters[obj_id] if obj_id in obj_clusters else np.nan for obj_id in adata_genes.obs.index]\n",
    "adata_genes.obs['bc_cluster_n_bcs'] = [cluster_n_found_barcodes[obj_clusters[obj_id]] if obj_id in obj_clusters else np.nan for obj_id in adata_genes.obs.index]\n",
    "adata_genes.obs['bc_cluster_found_bcs'] = [cluster_found_barcodes[obj_clusters[obj_id]] if obj_id in obj_clusters else np.nan for obj_id in adata_genes.obs.index]\n",
    "adata_genes.obs['bc_cluster_bc_names'] = [cluster_barcode_names[obj_clusters[obj_id]] if obj_id in obj_clusters else np.nan for obj_id in adata_genes.obs.index]\n",
    "\n",
    "adata_genes.obs.to_csv(f'{out_path}/cell_by_gene_matrix_dilate10_withbarcodes_clustering_{total_bc_threshold}bcs_{threshold}thresh.csv')\n"
   ]
  },
  {
   "cell_type": "code",
   "execution_count": null,
   "metadata": {},
   "outputs": [],
   "source": [
    "\n",
    "\n",
    "\n",
    "# /roi_2\n",
    "\n",
    "\n",
    "from SGanalysis.SGobject import SGobject\n",
    "\n",
    "for roi_name,files in roi_file_paths.items():\n",
    "\n",
    "    print(f'Processing {roi_name}...')\n",
    "\n",
    "    segmentation_file = files['segmentation_file']\n",
    "    spots_file = files['spots_file']\n",
    "    out_path = files['out_path']\n",
    "\n",
    "    # Create an instance of SGobject\n",
    "    sg_obj = SGobject()\n",
    "\n",
    "    # Convert a TIFF image to polygons and store them in a GeoDataFrame\n",
    "    print(\"Running mask_to_objects...\")\n",
    "    sg_obj.mask_to_objects(segmentation_file)\n",
    "\n",
    "    sg_obj.load_points(spots_file)\n",
    "\n",
    "    sg_obj.dilate_objects(10)\n",
    "\n",
    "    ## associate spots with segmentation\n",
    "\n",
    "    sg_obj.create_cell_gene_table()\n",
    "\n",
    "    with open(f'{out_path}/sg_object_dilate10_20240718.pkl', 'wb') as f:\n",
    "        pickle.dump(sg_obj, f)\n",
    "\n",
    "    matrix = sg_obj.get_cell_gene_table_df()\n",
    "    matrix['object_id'] = [str(int(x)) for x in matrix.index]\n",
    "    matrix.set_index('object_id',inplace=True)\n",
    "\n",
    "    sg_obj.gdf['object_id'] = [str(int(x)) for x in sg_obj.gdf['object_id']]\n",
    "    sg_obj.gdf.set_index('object_id',inplace=True)\n",
    "\n",
    "    sg_obj.gdf['nucleus_centroid'] = sg_obj.gdf['nucleus'].centroid.values\n",
    "    sg_obj.gdf['center_x'] = sg_obj.gdf['nucleus'].centroid.x.values\n",
    "    sg_obj.gdf['center_y'] = sg_obj.gdf['nucleus'].centroid.y.values\n",
    "    sg_obj.gdf['area'] = sg_obj.gdf['nucleus_dilated'].area.values\n",
    "\n",
    "    barcode_cols = ['bc_{:03d}'.format(i) for i in range(1,97)]\n",
    "\n",
    "\n",
    "    ## traditional barcode calling (using cutoff of 3)\n",
    "\n",
    "    cutoff = 3\n",
    "\n",
    "    cell_barcodes = {}\n",
    "    # matrix.set_index('object_id',   inplace=True)\n",
    "    # df.set_index('object_id')\n",
    "\n",
    "    df = matrix\n",
    "    df['cell_id'] = df.index\n",
    "\n",
    "    for cell_id in df['cell_id']:\n",
    "        this_cell = df[df['cell_id']==cell_id]\n",
    "        cell_barcodes[cell_id] = []\n",
    "\n",
    "        for bc in barcode_cols:\n",
    "            if this_cell[bc].values[0] >= cutoff:\n",
    "                cell_barcodes[cell_id].append(bc)\n",
    "\n",
    "    df['called_barcodes'] = cell_barcodes.values()\n",
    "    df['n_called_barcodes'] = [len(bc_set) for bc_set in cell_barcodes.values()]\n",
    "    df['barcode_names'] = ['-'.join(sorted(bc_set)) for bc_set in cell_barcodes.values()]\n",
    "\n",
    "    df = pd.merge(df,sg_obj.gdf,how='left',left_index=True,right_index=True)\n",
    "\n",
    "    df.to_csv(f'{out_path}/cell_by_gene_matrix_dilate10_withbarcodes_atleast{cutoff}.csv')\n",
    "\n",
    "    total_bc_threshold = 10\n",
    "\n",
    "    # include cells with at least 10 barcode spots\n",
    "    has_bcs = df[df[barcode_cols].sum(axis=1) >= 10]\n",
    "    matrix = has_bcs[barcode_cols]\n",
    "\n",
    "    print('Clustering barcodes...')\n",
    "\n",
    "    matrix_norm = matrix.div(matrix.sum(axis=1), axis=0)\n",
    "    braycurtis_dist = scipy.spatial.distance.pdist(matrix_norm,metric='braycurtis')\n",
    "\n",
    "    braycurtis_dist_square = scipy.spatial.distance.squareform(braycurtis_dist)\n",
    "\n",
    "    threshold = 0.4\n",
    "    cluster = AggCluster(distance_threshold=threshold,n_clusters=None,linkage='average',affinity='precomputed').fit(braycurtis_dist_square)\n",
    "\n",
    "\n",
    "    gene_cols = [col for col in df.columns if 'bc_' not in col and col not in ['cell_id','called_barcodes','n_called_barcodes','barcode_names','area','center_x','center_y','nucleus','nucleus_centroid','nucleus_dilated']]    \n",
    "\n",
    "    adata_genes = sc.AnnData(df[gene_cols])\n",
    "\n",
    "\n",
    "    cols= ['cell_id','n_called_barcodes','barcode_names','called_barcodes','area','center_x','center_y']\n",
    "    # for col in :\n",
    "    #     adata_genes.obs[col] = df[col]\n",
    "\n",
    "    adata_genes.obs = df[cols]\n",
    "\n",
    "\n",
    "    cluster_name_cutoff = 3\n",
    "\n",
    "    obj_clusters = {obj_id:clus for obj_id,clus in zip(matrix.index,cluster.labels_)}\n",
    "\n",
    "    cluster_objects = {}\n",
    "    cluster_barcode_names = {}\n",
    "    cluster_found_barcodes = {}\n",
    "    cluster_n_found_barcodes = {}\n",
    "\n",
    "    for clu in np.unique(cluster.labels_):\n",
    "        cluster_objects[clu] = matrix.index[cluster.labels_ == clu]\n",
    "\n",
    "        avg_bc_counts = np.mean(matrix[cluster.labels_ == clu],axis=0)\n",
    "        # print(avg_bc_counts)\n",
    "        # break\n",
    "\n",
    "        found_bcs = []\n",
    "\n",
    "        for bc in barcode_cols:\n",
    "            if avg_bc_counts[bc] > cutoff:\n",
    "                found_bcs.append(bc)\n",
    "\n",
    "        print(clu,found_bcs)\n",
    "\n",
    "        cluster_found_barcodes[clu] = found_bcs\n",
    "        cluster_n_found_barcodes[clu] = len(found_bcs)\n",
    "\n",
    "        cluster_barcode_names[clu] = '-'.join(sorted(found_bcs))\n",
    "\n",
    "    adata_genes.obs['bc_cluster'] = [obj_clusters[obj_id] if obj_id in obj_clusters else np.nan for obj_id in adata_genes.obs.index]\n",
    "    adata_genes.obs['bc_cluster_n_bcs'] = [cluster_n_found_barcodes[obj_clusters[obj_id]] if obj_id in obj_clusters else np.nan for obj_id in adata_genes.obs.index]\n",
    "    adata_genes.obs['bc_cluster_found_bcs'] = [cluster_found_barcodes[obj_clusters[obj_id]] if obj_id in obj_clusters else np.nan for obj_id in adata_genes.obs.index]\n",
    "    adata_genes.obs['bc_cluster_bc_names'] = [cluster_barcode_names[obj_clusters[obj_id]] if obj_id in obj_clusters else np.nan for obj_id in adata_genes.obs.index]\n",
    "\n",
    "    adata_genes.obs.to_csv(f'{out_path}/cell_by_gene_matrix_dilate10_20240718_withbarcodes_clustering_{total_bc_threshold}bcs_{threshold}thresh.csv')\n"
   ]
  },
  {
   "cell_type": "code",
   "execution_count": 114,
   "metadata": {},
   "outputs": [],
   "source": [
    "# number_of_barcodes \n",
    "\n",
    "n_cells = 500\n",
    "n_bcs = 100\n",
    "n_sisterhoods = 100\n",
    "\n",
    "matrix = np.random.poisson(0.1,(n_cells,n_bcs))\n",
    "\n",
    "sisterhoods = np.random.choice(n_cells,n_sisterhoods)\n",
    "\n",
    "for cell in range(n_cells):\n",
    "    if cell in sisterhoods:\n",
    "        # overwrite the non-zero indices for this sisterhood\n",
    "        non_zero_indices = np.random.choice(100,size=np.random.binomial(100,0.03),replace=False)\n",
    "\n",
    "        matrix[cell,non_zero_indices] = np.random.poisson(10,len(non_zero_indices))\n",
    "    else:\n",
    "        # keep the non-zero indices for this cell\n",
    "        matrix[cell,non_zero_indices] = np.random.poisson(10,len(non_zero_indices))\n"
   ]
  },
  {
   "cell_type": "code",
   "execution_count": 115,
   "metadata": {},
   "outputs": [
    {
     "data": {
      "text/plain": [
       "array([[0, 0, 0, ..., 0, 0, 0],\n",
       "       [0, 0, 1, ..., 0, 0, 0],\n",
       "       [0, 0, 0, ..., 0, 0, 0],\n",
       "       ...,\n",
       "       [0, 0, 0, ..., 0, 0, 0],\n",
       "       [0, 0, 0, ..., 0, 0, 0],\n",
       "       [0, 0, 0, ..., 0, 0, 0]])"
      ]
     },
     "execution_count": 115,
     "metadata": {},
     "output_type": "execute_result"
    }
   ],
   "source": [
    "matrix"
   ]
  },
  {
   "cell_type": "code",
   "execution_count": 116,
   "metadata": {},
   "outputs": [],
   "source": [
    "dist=  scipy.spatial.distance.pdist(matrix,metric='braycurtis')\n",
    "dist_square = scipy.spatial.distance.squareform(dist)\n",
    "\n",
    "cluster = AggCluster(distance_threshold=0.6,n_clusters=None,linkage='average',affinity='precomputed').fit(dist_square)\n"
   ]
  },
  {
   "cell_type": "code",
   "execution_count": 117,
   "metadata": {},
   "outputs": [
    {
     "data": {
      "image/png": "[encoded data removed]",
      "text/plain": [
       "<Figure size 640x480 with 1 Axes>"
      ]
     },
     "metadata": {},
     "output_type": "display_data"
    }
   ],
   "source": [
    "tools.plot_dendrogram(cluster)"
   ]
  },
  {
   "cell_type": "code",
   "execution_count": 118,
   "metadata": {},
   "outputs": [
    {
     "data": {
      "text/plain": [
       "122"
      ]
     },
     "execution_count": 118,
     "metadata": {},
     "output_type": "execute_result"
    }
   ],
   "source": [
    "len(np.unique(cluster.labels_))"
   ]
  },
  {
   "cell_type": "code",
   "execution_count": 126,
   "metadata": {},
   "outputs": [
    {
     "data": {
      "text/plain": [
       "array([[0.        , 0.27272727, 0.35384615, ..., 0.93814433, 1.        ,\n",
       "        0.93258427],\n",
       "       [0.27272727, 0.        , 0.37142857, ..., 0.94117647, 0.97402597,\n",
       "        0.9787234 ],\n",
       "       [0.35384615, 0.37142857, 0.        , ..., 1.        , 0.96923077,\n",
       "        1.        ],\n",
       "       ...,\n",
       "       [0.93814433, 0.94117647, 1.        , ..., 0.        , 0.73195876,\n",
       "        0.94736842],\n",
       "       [1.        , 0.97402597, 0.96923077, ..., 0.73195876, 0.        ,\n",
       "        1.        ],\n",
       "       [0.93258427, 0.9787234 , 1.        , ..., 0.94736842, 1.        ,\n",
       "        0.        ]])"
      ]
     },
     "execution_count": 126,
     "metadata": {},
     "output_type": "execute_result"
    }
   ],
   "source": [
    "dist_square"
   ]
  },
  {
   "cell_type": "code",
   "execution_count": 91,
   "metadata": {},
   "outputs": [
    {
     "data": {
      "text/plain": [
       "(array([  0,   1,   2,   3,   4,   5,   6,   7,   8,   9,  10,  11,  12,\n",
       "         13,  14,  15,  16,  17,  18,  19,  20,  21,  22,  23,  24,  25,\n",
       "         26,  27,  28,  29,  30,  31,  32,  33,  34,  35,  36,  37,  38,\n",
       "         39,  40,  41,  42,  43,  44,  45,  46,  47,  48,  49,  50,  51,\n",
       "         52,  53,  54,  55,  56,  57,  58,  59,  60,  61,  62,  63,  64,\n",
       "         65,  66,  67,  68,  69,  70,  71,  72,  73,  74,  75,  76,  77,\n",
       "         78,  79,  80,  81,  82,  83,  84,  85,  86,  87,  88,  89,  90,\n",
       "         91,  92,  93,  94,  95,  96,  97,  98,  99, 100, 101, 102, 103,\n",
       "        104, 105, 106, 107, 108, 109, 110, 111, 112, 113, 114, 115, 116,\n",
       "        117, 118, 119, 120, 121, 122, 123, 124, 125, 126, 127, 128, 129,\n",
       "        130, 131, 132, 133, 134, 135, 136, 137, 138, 139, 140, 141, 142,\n",
       "        143, 144, 145, 146, 147, 148, 149, 150, 151, 152, 153, 154, 155,\n",
       "        156, 157, 158, 159, 160, 161, 162, 163, 164, 165, 166, 167, 168,\n",
       "        169, 170, 171, 172, 173, 174, 175, 176, 177, 178, 179, 180, 181,\n",
       "        182, 183, 184, 185, 186, 187, 188, 189, 190, 191, 192, 193, 194,\n",
       "        195, 196, 197, 198, 199, 200, 201, 202, 203, 204, 205, 206, 207,\n",
       "        208, 209, 210, 211, 212, 213, 214, 215, 216, 217, 218, 219, 220,\n",
       "        221, 222, 223, 224, 225, 226, 227, 228, 229, 230, 231, 232, 233,\n",
       "        234, 235, 236, 237, 238, 239, 240, 241, 242, 243, 244, 245, 246,\n",
       "        247, 248, 249, 250, 251, 252, 253, 254, 255, 256, 257, 258, 259,\n",
       "        260, 261, 262, 263, 264, 265, 266, 267, 268, 269, 270, 271, 272,\n",
       "        273, 274, 275, 276, 277, 278, 279, 280, 281, 282, 283, 284, 285,\n",
       "        286, 287, 288, 289, 290, 291, 292, 293, 294, 295, 296, 297, 298,\n",
       "        299, 300, 301, 302, 303, 304, 305, 306, 307, 308, 309, 310, 311,\n",
       "        312, 313, 314, 315, 316, 317, 318, 319, 320, 321, 322, 323, 324,\n",
       "        325, 326, 327, 328, 329, 330, 331, 332, 333, 334, 335, 336, 337,\n",
       "        338, 339, 340, 341, 342, 343, 344, 345, 346, 347, 348, 349, 350,\n",
       "        351, 352, 353, 354, 355, 356, 357, 358, 359, 360, 361, 362, 363,\n",
       "        364, 365, 366, 367, 368, 369, 370, 371, 372, 373, 374, 375, 376,\n",
       "        377, 378, 379, 380, 381, 382, 383, 384, 385, 386, 387, 388, 389,\n",
       "        390, 391, 392, 393, 394, 395, 396, 397, 398, 399, 400, 401, 402,\n",
       "        403, 404, 405, 406, 407, 408, 409, 410, 411, 412, 413, 414, 415,\n",
       "        416, 417, 418, 419, 420, 421, 422, 423, 424, 425, 426, 427, 428,\n",
       "        429, 430, 431, 432, 433, 434, 435, 436, 437, 438, 439, 440, 441,\n",
       "        442, 443, 444, 445, 446, 447, 448, 449, 450, 451, 452, 453, 454,\n",
       "        455, 456, 457, 458, 459, 460, 461, 462, 463, 464, 465, 466, 467,\n",
       "        468, 469, 470, 471, 472, 473, 474, 475, 476, 477, 478, 479, 480,\n",
       "        481, 482, 483, 484, 485, 486, 487, 488, 489, 490, 491, 492, 493,\n",
       "        494, 495, 496, 497, 498]),\n",
       " array([2, 1, 1, 1, 1, 1, 1, 1, 1, 1, 1, 1, 1, 1, 1, 1, 1, 1, 1, 1, 1, 1,\n",
       "        1, 1, 1, 1, 1, 1, 1, 1, 1, 1, 1, 1, 1, 1, 1, 1, 1, 1, 1, 1, 1, 1,\n",
       "        1, 1, 1, 1, 1, 1, 1, 1, 1, 1, 1, 1, 1, 1, 1, 1, 1, 1, 1, 1, 1, 1,\n",
       "        1, 1, 1, 1, 1, 1, 1, 1, 1, 1, 1, 1, 1, 1, 1, 1, 1, 1, 1, 1, 1, 1,\n",
       "        1, 1, 1, 1, 1, 1, 1, 1, 1, 1, 1, 1, 1, 1, 1, 1, 1, 1, 1, 1, 1, 1,\n",
       "        1, 1, 1, 1, 1, 1, 1, 1, 1, 1, 1, 1, 1, 1, 1, 1, 1, 1, 1, 1, 1, 1,\n",
       "        1, 1, 1, 1, 1, 1, 1, 1, 1, 1, 1, 1, 1, 1, 1, 1, 1, 1, 1, 1, 1, 1,\n",
       "        1, 1, 1, 1, 1, 1, 1, 1, 1, 1, 1, 1, 1, 1, 1, 1, 1, 1, 1, 1, 1, 1,\n",
       "        1, 1, 1, 1, 1, 1, 1, 1, 1, 1, 1, 1, 1, 1, 1, 1, 1, 1, 1, 1, 1, 1,\n",
       "        1, 1, 1, 1, 1, 1, 1, 1, 1, 1, 1, 1, 1, 1, 1, 1, 1, 1, 1, 1, 1, 1,\n",
       "        1, 1, 1, 1, 1, 1, 1, 1, 1, 1, 1, 1, 1, 1, 1, 1, 1, 1, 1, 1, 1, 1,\n",
       "        1, 1, 1, 1, 1, 1, 1, 1, 1, 1, 1, 1, 1, 1, 1, 1, 1, 1, 1, 1, 1, 1,\n",
       "        1, 1, 1, 1, 1, 1, 1, 1, 1, 1, 1, 1, 1, 1, 1, 1, 1, 1, 1, 1, 1, 1,\n",
       "        1, 1, 1, 1, 1, 1, 1, 1, 1, 1, 1, 1, 1, 1, 1, 1, 1, 1, 1, 1, 1, 1,\n",
       "        1, 1, 1, 1, 1, 1, 1, 1, 1, 1, 1, 1, 1, 1, 1, 1, 1, 1, 1, 1, 1, 1,\n",
       "        1, 1, 1, 1, 1, 1, 1, 1, 1, 1, 1, 1, 1, 1, 1, 1, 1, 1, 1, 1, 1, 1,\n",
       "        1, 1, 1, 1, 1, 1, 1, 1, 1, 1, 1, 1, 1, 1, 1, 1, 1, 1, 1, 1, 1, 1,\n",
       "        1, 1, 1, 1, 1, 1, 1, 1, 1, 1, 1, 1, 1, 1, 1, 1, 1, 1, 1, 1, 1, 1,\n",
       "        1, 1, 1, 1, 1, 1, 1, 1, 1, 1, 1, 1, 1, 1, 1, 1, 1, 1, 1, 1, 1, 1,\n",
       "        1, 1, 1, 1, 1, 1, 1, 1, 1, 1, 1, 1, 1, 1, 1, 1, 1, 1, 1, 1, 1, 1,\n",
       "        1, 1, 1, 1, 1, 1, 1, 1, 1, 1, 1, 1, 1, 1, 1, 1, 1, 1, 1, 1, 1, 1,\n",
       "        1, 1, 1, 1, 1, 1, 1, 1, 1, 1, 1, 1, 1, 1, 1, 1, 1, 1, 1, 1, 1, 1,\n",
       "        1, 1, 1, 1, 1, 1, 1, 1, 1, 1, 1, 1, 1, 1, 1]))"
      ]
     },
     "execution_count": 91,
     "metadata": {},
     "output_type": "execute_result"
    }
   ],
   "source": [
    "np.unique(cluster.labels_,return_counts=True)"
   ]
  },
  {
   "cell_type": "code",
   "execution_count": 76,
   "metadata": {},
   "outputs": [
    {
     "data": {
      "text/plain": [
       "array([[2844, 2997],\n",
       "       [1970, 3155],\n",
       "       [1271, 3751],\n",
       "       ...,\n",
       "       [9991, 9995],\n",
       "       [9972, 9996],\n",
       "       [3709, 9997]])"
      ]
     },
     "execution_count": 76,
     "metadata": {},
     "output_type": "execute_result"
    }
   ],
   "source": [
    "cluster.children_"
   ]
  },
  {
   "cell_type": "code",
   "execution_count": null,
   "metadata": {},
   "outputs": [],
   "source": []
  }
 ],
 "metadata": {
  "kernelspec": {
   "display_name": "Python 3",
   "language": "python",
   "name": "python3"
  },
  "language_info": {
   "codemirror_mode": {
    "name": "ipython",
    "version": 3
   },
   "file_extension": ".py",
   "mimetype": "text/x-python",
   "name": "python",
   "nbconvert_exporter": "python",
   "pygments_lexer": "ipython3",
   "version": "3.9.13"
  }
 },
 "nbformat": 4,
 "nbformat_minor": 2
}
